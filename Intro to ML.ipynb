{
 "cells": [
  {
   "cell_type": "markdown",
   "metadata": {},
   "source": [
    "# A Basic Introduction to ML\n",
    "\n",
    "Last updated 2 June 2020 by Vanessa Meschke (vmeschke@mymail.mines.edu)\n",
    "\n",
    "This notebook is a demo of the machine learning algorithms available through Scikit Learn."
   ]
  },
  {
   "cell_type": "code",
   "execution_count": 7,
   "metadata": {},
   "outputs": [],
   "source": [
    "# imports\n",
    "import numpy as np\n",
    "import pandas as pd\n",
    "import math\n",
    "import matplotlib.pyplot as plt\n",
    "%matplotlib inline \n",
    "from sklearn.ensemble import RandomForestRegressor\n",
    "from sklearn.metrics import mean_squared_error, mean_absolute_error, r2_score"
   ]
  },
  {
   "cell_type": "markdown",
   "metadata": {},
   "source": [
    "## Reading in Data\n",
    "\n",
    "We'll be using the same dataset from TEDesign Lab that we used for the basic plotting demo before."
   ]
  },
  {
   "cell_type": "code",
   "execution_count": 6,
   "metadata": {},
   "outputs": [
    {
     "data": {
      "text/html": [
       "<div>\n",
       "<style scoped>\n",
       "    .dataframe tbody tr th:only-of-type {\n",
       "        vertical-align: middle;\n",
       "    }\n",
       "\n",
       "    .dataframe tbody tr th {\n",
       "        vertical-align: top;\n",
       "    }\n",
       "\n",
       "    .dataframe thead th {\n",
       "        text-align: right;\n",
       "    }\n",
       "</style>\n",
       "<table border=\"1\" class=\"dataframe\">\n",
       "  <thead>\n",
       "    <tr style=\"text-align: right;\">\n",
       "      <th></th>\n",
       "      <th>compound</th>\n",
       "      <th>Space Group</th>\n",
       "      <th>Band Gap (eV)</th>\n",
       "      <th>Lattice Thermal Conductivity (W/m K)</th>\n",
       "      <th>Hole mobility (cm^2 / V s)</th>\n",
       "      <th>Electron mobility (cm^2 / V s)</th>\n",
       "      <th>beta (p-type)</th>\n",
       "      <th>beta (n-type)</th>\n",
       "      <th>Number of Atoms per Unit Cell</th>\n",
       "      <th>density (g/cm^3)</th>\n",
       "      <th>volume of unit cell (A^3)</th>\n",
       "      <th>Volume per Atom (A^3)</th>\n",
       "      <th>Bulk Modulus (GPa)</th>\n",
       "      <th>Average Coordination Number</th>\n",
       "    </tr>\n",
       "  </thead>\n",
       "  <tbody>\n",
       "    <tr>\n",
       "      <th>0</th>\n",
       "      <td>La1O4V1</td>\n",
       "      <td>14</td>\n",
       "      <td>3.50</td>\n",
       "      <td>9.82</td>\n",
       "      <td>1.07</td>\n",
       "      <td>0.50</td>\n",
       "      <td>0.87</td>\n",
       "      <td>0.96</td>\n",
       "      <td>24</td>\n",
       "      <td>4.82</td>\n",
       "      <td>349.6</td>\n",
       "      <td>14.566667</td>\n",
       "      <td>89.8</td>\n",
       "      <td>1.92</td>\n",
       "    </tr>\n",
       "    <tr>\n",
       "      <th>1</th>\n",
       "      <td>La1O4V1</td>\n",
       "      <td>141</td>\n",
       "      <td>3.15</td>\n",
       "      <td>12.41</td>\n",
       "      <td>2.69</td>\n",
       "      <td>7.35</td>\n",
       "      <td>2.25</td>\n",
       "      <td>0.67</td>\n",
       "      <td>12</td>\n",
       "      <td>4.42</td>\n",
       "      <td>190.9</td>\n",
       "      <td>15.908333</td>\n",
       "      <td>97.3</td>\n",
       "      <td>3.92</td>\n",
       "    </tr>\n",
       "    <tr>\n",
       "      <th>2</th>\n",
       "      <td>In1O3Y1</td>\n",
       "      <td>185</td>\n",
       "      <td>2.02</td>\n",
       "      <td>6.27</td>\n",
       "      <td>3.45</td>\n",
       "      <td>411.06</td>\n",
       "      <td>2.85</td>\n",
       "      <td>3.85</td>\n",
       "      <td>30</td>\n",
       "      <td>5.67</td>\n",
       "      <td>442.3</td>\n",
       "      <td>14.743333</td>\n",
       "      <td>137.2</td>\n",
       "      <td>4.53</td>\n",
       "    </tr>\n",
       "    <tr>\n",
       "      <th>3</th>\n",
       "      <td>Ba2In2O5</td>\n",
       "      <td>46</td>\n",
       "      <td>0.93</td>\n",
       "      <td>8.07</td>\n",
       "      <td>8.50</td>\n",
       "      <td>678.87</td>\n",
       "      <td>0.99</td>\n",
       "      <td>5.69</td>\n",
       "      <td>18</td>\n",
       "      <td>6.10</td>\n",
       "      <td>318.3</td>\n",
       "      <td>17.683333</td>\n",
       "      <td>89.4</td>\n",
       "      <td>3.56</td>\n",
       "    </tr>\n",
       "    <tr>\n",
       "      <th>4</th>\n",
       "      <td>K6Mg1O4</td>\n",
       "      <td>186</td>\n",
       "      <td>1.71</td>\n",
       "      <td>2.20</td>\n",
       "      <td>0.48</td>\n",
       "      <td>35.84</td>\n",
       "      <td>0.47</td>\n",
       "      <td>2.63</td>\n",
       "      <td>22</td>\n",
       "      <td>2.53</td>\n",
       "      <td>424.3</td>\n",
       "      <td>19.286364</td>\n",
       "      <td>31.7</td>\n",
       "      <td>5.59</td>\n",
       "    </tr>\n",
       "  </tbody>\n",
       "</table>\n",
       "</div>"
      ],
      "text/plain": [
       "   compound  Space Group  Band Gap (eV)  Lattice Thermal Conductivity (W/m K)  \\\n",
       "0   La1O4V1           14           3.50                                  9.82   \n",
       "1   La1O4V1          141           3.15                                 12.41   \n",
       "2   In1O3Y1          185           2.02                                  6.27   \n",
       "3  Ba2In2O5           46           0.93                                  8.07   \n",
       "4   K6Mg1O4          186           1.71                                  2.20   \n",
       "\n",
       "   Hole mobility (cm^2 / V s)  Electron mobility (cm^2 / V s)  beta (p-type)  \\\n",
       "0                        1.07                            0.50           0.87   \n",
       "1                        2.69                            7.35           2.25   \n",
       "2                        3.45                          411.06           2.85   \n",
       "3                        8.50                          678.87           0.99   \n",
       "4                        0.48                           35.84           0.47   \n",
       "\n",
       "   beta (n-type)  Number of Atoms per Unit Cell  density (g/cm^3)  \\\n",
       "0           0.96                             24              4.82   \n",
       "1           0.67                             12              4.42   \n",
       "2           3.85                             30              5.67   \n",
       "3           5.69                             18              6.10   \n",
       "4           2.63                             22              2.53   \n",
       "\n",
       "   volume of unit cell (A^3)  Volume per Atom (A^3)  Bulk Modulus (GPa)  \\\n",
       "0                      349.6              14.566667                89.8   \n",
       "1                      190.9              15.908333                97.3   \n",
       "2                      442.3              14.743333               137.2   \n",
       "3                      318.3              17.683333                89.4   \n",
       "4                      424.3              19.286364                31.7   \n",
       "\n",
       "   Average Coordination Number  \n",
       "0                         1.92  \n",
       "1                         3.92  \n",
       "2                         4.53  \n",
       "3                         3.56  \n",
       "4                         5.59  "
      ]
     },
     "execution_count": 6,
     "metadata": {},
     "output_type": "execute_result"
    }
   ],
   "source": [
    "# Read in the data!\n",
    "data_path = 'tedesignlab.csv' # This is where your data is located. \n",
    "all_data = pd.read_csv(data_path) # Turn CSV into pandas DataFrame\n",
    "all_data.head() # See first 5 row of data set"
   ]
  },
  {
   "cell_type": "markdown",
   "metadata": {},
   "source": [
    "## Supervised and Unsupervised Learning Methods\n",
    "\n",
    "\n",
    "### Supervised Learning\n",
    "\n",
    "\n",
    "\n",
    "### Unsupervised Learning"
   ]
  },
  {
   "cell_type": "code",
   "execution_count": null,
   "metadata": {},
   "outputs": [],
   "source": []
  },
  {
   "cell_type": "markdown",
   "metadata": {},
   "source": [
    "## Classification and Regression Tasks\n",
    "\n",
    "### Classification\n",
    "\n",
    "\n",
    "### Regression"
   ]
  },
  {
   "cell_type": "code",
   "execution_count": 17,
   "metadata": {},
   "outputs": [
    {
     "name": "stdout",
     "output_type": "stream",
     "text": [
      "[3.562]\n"
     ]
    },
    {
     "name": "stderr",
     "output_type": "stream",
     "text": [
      "/usr/local/anaconda3/lib/python3.7/site-packages/sklearn/ensemble/forest.py:245: FutureWarning: The default value of n_estimators will change from 10 in version 0.20 to 100 in 0.22.\n",
      "  \"10 in version 0.20 to 100 in 0.22.\", FutureWarning)\n"
     ]
    }
   ],
   "source": [
    "# Regression - predict lattice thermal conductivity using bulk modulus, average coordination number, \n",
    "# and hole/electron mobility as features\n",
    "# Read in data\n",
    "kappa = all_data['Lattice Thermal Conductivity (W/m K)'].values # Get thermal cond & convert to NumPy array \n",
    "bm = all_data['Bulk Modulus (GPa)'].values\n",
    "bm = bm.reshape((len(bm), 1))\n",
    "mu_h = all_data['Hole mobility (cm^2 / V s)'].values\n",
    "mu_h = mu_h.reshape((len(mu_h), 1))\n",
    "mu_e = all_data['Electron mobility (cm^2 / V s)'].values\n",
    "mu_e = mu_e.reshape((len(mu_e), 1))\n",
    "vol_per_atom = all_data['Volume per Atom (A^3)'].values\n",
    "vol_per_atom = vol_per_atom.reshape((len(vol_per_atom), 1))\n",
    "density = all_data['density (g/cm^3)'].values\n",
    "density = density.reshape((len(density), 1))\n",
    "\n",
    "X = []\n",
    "for i in range(len(bm)):\n",
    "    row = [bm[i], mu_e[i], mu_h[i], vol_per_atom[i], density[i]]\n",
    "    X.append(row)\n",
    "\n",
    "#from sklearn.datasets import load_diabetes\n",
    "#X, y = load_diabetes(return_X_y=True)\n",
    "X = np.asarray(X).reshape((len(bm), 5))\n",
    "\n",
    "# Set inputs to model - we'll use random forest here\n",
    "rf = RandomForestRegressor()\n",
    "rf.fit(X, kappa)\n",
    "\n",
    "# BM, mu_e, mu_h\n",
    "pbte = np.asarray([38.51, 184.53, 267.5, 35.23, 7.89]).reshape(1, -1)\n",
    "\n",
    "pbte_predicted = rf.predict(pbte)\n",
    "print(pbte_predicted)"
   ]
  },
  {
   "cell_type": "markdown",
   "metadata": {},
   "source": [
    "## Assessing Model Accuracy\n",
    "\n",
    "### Classification Accuracy\n",
    "\n",
    "\n",
    "### Regression Accuracy\n",
    "There are several metrics that can gauge the performance of a regression model. The ones we'll cover from Scikit-Learn are the:\n",
    "- Mean Absolute Error: $\\frac{1}{n}\\sum_{i = 1}^{n}(predicted_{i} - actual_{i})$ (No Error has MAE = 0)\n",
    "- Mean Squared Error: $\\frac{1}{n}\\sum_{i = 1}^{n}(predicted_{i} - actual_{i})^{2}$ (No Error has MSE = 0)\n",
    "- R$^{2}$ Score = $1 - \\frac{\\sum_{i = 1}^{n}(actual_{i} - predicted_{i})^{2}}{\\sum_{i = 1}^{n}(actual_{i} - avg. actual)^{2}}$ (No Error has R$^{2}$ = 1)\n",
    "\n",
    "However, I find it useful to also use the root mean squared error normalized by the standard deviation to also be useful in assessing model accuracy.\n",
    "- Normalized Root Mean Squared Error: $\\frac{\\sqrt{\\frac{1}{n}\\sum_{i = 1}^{n}(predicted_{i} - actual_{i})^{2}}}{StDev(actual)}$ (No Error has Normalized RMSE = 0)"
   ]
  },
  {
   "cell_type": "code",
   "execution_count": 24,
   "metadata": {
    "scrolled": true
   },
   "outputs": [
    {
     "name": "stdout",
     "output_type": "stream",
     "text": [
      "28.63329468991136\n",
      "Mean Absolute Error: 2.5279999999999996\n",
      "Mean Squared Error: 6.390783999999998\n",
      "R^2 Score: nan\n",
      "Normalized Root Mean Squared Error: 0.08828882695398353\n"
     ]
    },
    {
     "name": "stderr",
     "output_type": "stream",
     "text": [
      "/usr/local/anaconda3/lib/python3.7/site-packages/sklearn/metrics/regression.py:543: UndefinedMetricWarning: R^2 score is not well-defined with less than two samples.\n",
      "  warnings.warn(msg, UndefinedMetricWarning)\n"
     ]
    }
   ],
   "source": [
    "# Actual value of kappa for PbTe\n",
    "pbte_actual = 6.09\n",
    "\n",
    "# MAE\n",
    "pbte_mae = mean_absolute_error([pbte_actual], [pbte_predicted])\n",
    "\n",
    "# MSE\n",
    "pbte_mse = mean_squared_error([pbte_actual], [pbte_predicted])\n",
    "\n",
    "# R^2 (Note: Need at least two samples for R^2 in Scikit-Learn)\n",
    "pbte_r2 = r2_score([pbte_actual], [pbte_predicted])\n",
    "\n",
    "# Normalized RMSE\n",
    "pbte_nrmse = math.sqrt(pbte_mse)/np.std(kappa)\n",
    "\n",
    "# Print\n",
    "print(\"Mean Absolute Error: \" + str(pbte_mae))\n",
    "print(\"Mean Squared Error: \" + str(pbte_mse))\n",
    "print(\"R^2 Score: \" + str(pbte_r2))\n",
    "print(\"Normalized Root Mean Squared Error: \" + str(pbte_nrmse))"
   ]
  },
  {
   "cell_type": "markdown",
   "metadata": {},
   "source": [
    "## More Accurate Representations of Model Accuracy Using Cross Validation\n",
    "\n",
    "### Leave One Out\n",
    "\n",
    "### k-Fold\n",
    "In k-fold cross validation, we break the data into similarly-sized subsets to use for training & testing. "
   ]
  },
  {
   "cell_type": "code",
   "execution_count": null,
   "metadata": {},
   "outputs": [],
   "source": [
    "from sklearn.model_selection import KFold"
   ]
  }
 ],
 "metadata": {
  "kernelspec": {
   "display_name": "Python 3",
   "language": "python",
   "name": "python3"
  },
  "language_info": {
   "codemirror_mode": {
    "name": "ipython",
    "version": 3
   },
   "file_extension": ".py",
   "mimetype": "text/x-python",
   "name": "python",
   "nbconvert_exporter": "python",
   "pygments_lexer": "ipython3",
   "version": "3.7.3"
  }
 },
 "nbformat": 4,
 "nbformat_minor": 4
}
