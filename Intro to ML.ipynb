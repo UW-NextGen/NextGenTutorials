{
 "cells": [
  {
   "cell_type": "markdown",
   "metadata": {},
   "source": [
    "# A Basic Introduction to Supervised Machine Learning\n",
    "\n",
    "Last updated 2 June 2020 by Vanessa Meschke (vmeschke@mymail.mines.edu)\n",
    "\n",
    "This notebook is a demo of the machine learning algorithms available through Scikit Learn."
   ]
  },
  {
   "cell_type": "code",
   "execution_count": 53,
   "metadata": {},
   "outputs": [
    {
     "name": "stdout",
     "output_type": "stream",
     "text": [
      "Requirement already satisfied: joblib in c:\\users\\vanessa\\anaconda3\\envs\\mines\\lib\\site-packages (0.13.2)\n"
     ]
    }
   ],
   "source": [
    "# imports\n",
    "!pip install joblib\n",
    "import numpy as np\n",
    "import pandas as pd\n",
    "import math\n",
    "import matplotlib.pyplot as plt\n",
    "%matplotlib inline \n",
    "from sklearn.ensemble import RandomForestRegressor\n",
    "from sklearn.metrics import mean_squared_error, mean_absolute_error, r2_score"
   ]
  },
  {
   "cell_type": "markdown",
   "metadata": {},
   "source": [
    "## Supervised and Unsupervised Learning Methods\n",
    "\n",
    "There are two broad classes of machine learning tasks: supervised and unsupervised learning. The easiest way to distinguish between the two is by determining if the data set is labelled or unlabelled: supervised learning requires labelled data and unsupervised learning uses unlabelled data.\n",
    "\n",
    "\n",
    "### Supervised Learning\n",
    "In supervised learning, some type of ground truth is known about our data set - in other words, we know the value of the variable we're trying to predict (the data set is labelled) and we're trying to accurately predict that variable for many data points. You can compare the performance of different models because you can score how well the model predicted the data. Under supervised learning, there are another two types of tasks: classification and regression.\n",
    "- Classification: The values of the target variable are part of a discrete set (for example: colors of the rainbow, types of macaroni and cheese shapes, classes of rock, or roasts of coffee). Classification tasks try to predict a class label.\n",
    "- Regression: The values of the target variable are continuous (for example: height of a tree, speed of a rollerblader, volume of coffee I've drank today, or amount of time the baby in your neighbor's apartment has been crying).\n",
    "\n",
    "### Unsupervised Learning\n",
    "In contrast, unsupervised learning techniques don't focus on predicting an actual value of a target variable because the actual value isn't known (the data is unlabelled). Instead, unsupervised learning is used to learn more about the inherent structure of the data set. This notebook won't address any examples of unsupervised learning."
   ]
  },
  {
   "cell_type": "markdown",
   "metadata": {},
   "source": [
    "## Classification Example\n",
    "\n",
    "In the following code block, we'll go through an example of predicting a discrete variable using the k nearest neighbors algorithm. This algorithm works by calculating the distance between one data point and its k nearest neighbors. The label of the data point is set to be the class of the majority of the k nearest neighbors.\n",
    "\n",
    "The data set we're using in this example is on [types of irises](https://scikit-learn.org/stable/auto_examples/datasets/plot_iris_dataset.html) (the flower, not the color part of your eye) from Scikit-Learn. Here, we're trying to classify what type of iris (setosa, versicolor, or virginica) based of the length and width of its sepals."
   ]
  },
  {
   "cell_type": "code",
   "execution_count": 80,
   "metadata": {},
   "outputs": [
    {
     "data": {
      "image/png": "[encoded data removed]",
      "text/plain": [
       "<Figure size 432x288 with 1 Axes>"
      ]
     },
     "metadata": {
      "needs_background": "light"
     },
     "output_type": "display_data"
    },
    {
     "name": "stdout",
     "output_type": "stream",
     "text": [
      "Predicted class label for left out data point: [0]\n",
      "Actual class label for left out data point: 0\n"
     ]
    }
   ],
   "source": [
    "from matplotlib.colors import ListedColormap\n",
    "from sklearn import neighbors, datasets\n",
    "\n",
    "# set the number of nearest neighbors \n",
    "n_neighbors = 10\n",
    "\n",
    "# import iris data\n",
    "iris = datasets.load_iris()\n",
    "\n",
    "# Get the first two features of the data set (the length and width of the widest petals (called sepals))\n",
    "X = iris.data[:, :2]\n",
    "y = iris.target\n",
    "\n",
    "# remove a sample to use for predicting later\n",
    "index_to_remove = 10\n",
    "test_X = X[index_to_remove, :] # Store data\n",
    "test_y = y[index_to_remove]\n",
    "X = np.delete(X, index_to_remove, 0) # Remove data from original data set\n",
    "y = np.delete(y, index_to_remove, 0)\n",
    "\n",
    "# Create color maps to make our plot pretty \n",
    "cmap_light = ListedColormap(['orange', 'cyan', 'cornflowerblue'])\n",
    "cmap_bold = ListedColormap(['darkorange', 'c', 'darkblue'])\n",
    "h = .02  # step size in the mesh \n",
    "\n",
    "# create an instance of kNN Classifier and fit the data.\n",
    "clf = neighbors.KNeighborsClassifier(n_neighbors, weights='uniform')\n",
    "clf.fit(X, y)\n",
    "\n",
    "# Plot the decision boundary, which shows what type of iris a given data point will be classified as\n",
    "x_min, x_max = X[:, 0].min() - 1, X[:, 0].max() + 1\n",
    "y_min, y_max = X[:, 1].min() - 1, X[:, 1].max() + 1\n",
    "xx, yy = np.meshgrid(np.arange(x_min, x_max, h),\n",
    "                     np.arange(y_min, y_max, h))\n",
    "Z = clf.predict(np.c_[xx.ravel(), yy.ravel()])\n",
    "\n",
    "# Put the result into a color plot\n",
    "Z = Z.reshape(xx.shape)\n",
    "plt.figure()\n",
    "plt.pcolormesh(xx, yy, Z, cmap=cmap_light)\n",
    "\n",
    "# Plot also the training points\n",
    "plt.scatter(X[:, 0], X[:, 1], c=y, cmap=cmap_bold,\n",
    "            edgecolor='k', s=20)\n",
    "plt.xlim(xx.min(), xx.max())\n",
    "plt.ylim(yy.min(), yy.max())\n",
    "plt.title(\"3-Class classification (k = %i)\"\n",
    "          % (n_neighbors))\n",
    "\n",
    "plt.show()\n",
    "\n",
    "# Predict class label for left out data point\n",
    "prediction = clf.predict(test_X.reshape(1,-1))\n",
    "\n",
    "print('Predicted class label for left out data point: ' + str(prediction))\n",
    "print('Actual class label for left out data point: ' + str(test_y))"
   ]
  },
  {
   "cell_type": "markdown",
   "metadata": {},
   "source": [
    "## Regression Example\n",
    "\n",
    "In the following code block, we'll go through an example of predicting a continuous variable using the random forest algorithm. The data we're using is from TEDesign lab, and we'll be trying to predict the lattice thermal conductivity of the material given some material properties."
   ]
  },
  {
   "cell_type": "code",
   "execution_count": 55,
   "metadata": {},
   "outputs": [
    {
     "name": "stdout",
     "output_type": "stream",
     "text": [
      "Predicted kappa for PbTe: [2.83]\n"
     ]
    }
   ],
   "source": [
    "# Read in the data\n",
    "data_path = 'tedesignlab.csv' # This is where your data is located. \n",
    "all_data = pd.read_csv(data_path) # Turn CSV into pandas DataFrame\n",
    "all_data.head() # See first 5 row of data set\n",
    "\n",
    "# Regression - predict lattice thermal conductivity using bulk modulus, average coordination number, \n",
    "# and hole/electron mobility as features\n",
    "# Read in data\n",
    "kappa = all_data['Lattice Thermal Conductivity (W/m K)'].values # Get thermal cond & convert to NumPy array \n",
    "bm = all_data['Bulk Modulus (GPa)'].values\n",
    "bm = bm.reshape((len(bm), 1))\n",
    "mu_h = all_data['Hole mobility (cm^2 / V s)'].values\n",
    "mu_h = mu_h.reshape((len(mu_h), 1))\n",
    "mu_e = all_data['Electron mobility (cm^2 / V s)'].values\n",
    "mu_e = mu_e.reshape((len(mu_e), 1))\n",
    "vol_per_atom = all_data['Volume per Atom (A^3)'].values\n",
    "vol_per_atom = vol_per_atom.reshape((len(vol_per_atom), 1))\n",
    "density = all_data['density (g/cm^3)'].values\n",
    "density = density.reshape((len(density), 1))\n",
    "\n",
    "X = []\n",
    "for i in range(len(bm)):\n",
    "    row = [bm[i], mu_e[i], mu_h[i], vol_per_atom[i], density[i]]\n",
    "    X.append(row)\n",
    "\n",
    "#from sklearn.datasets import load_diabetes\n",
    "X = np.asarray(X).reshape((len(bm), 5))\n",
    "\n",
    "# Set inputs to model - we'll use random forest here\n",
    "n_estimators = 10\n",
    "rf = RandomForestRegressor(n_estimators)\n",
    "rf.fit(X, kappa)\n",
    "\n",
    "# BM, mu_e, mu_h\n",
    "pbte = np.asarray([38.51, 184.53, 267.5, 35.23, 7.89]).reshape(1, -1)\n",
    "\n",
    "pbte_predicted = rf.predict(pbte)\n",
    "print('Predicted kappa for PbTe: ' + str(pbte_predicted))"
   ]
  },
  {
   "cell_type": "markdown",
   "metadata": {},
   "source": [
    "## Assessing Model Accuracy\n",
    "\n",
    "### Classification Accuracy\n",
    "To calculate the accuracy of a classification model, there are several different values we can calculate. These can be summarized in a table called a confusion matrix, where the cells in the table are:\n",
    "- True Positive: Actual value is true & model predicts true\n",
    "- True Negative: Actual value is false & model predicts false\n",
    "- False Positive: Actual value is false & model predicts true\n",
    "- False Negative: Actual value is true & model predicts false\n",
    "\n",
    "By using a confusion matrix, we can quickly assess how and where our model is failing (for example, we may see a model that gives no false negatives, but may give false positives). Model success & failures can be tuned for specific applications (e.g. in medical applications, it's very important to not give false negatives when classifying).\n",
    "\n",
    "Another way to assess model classification accuracy is by computing the F1 score, which is calculated as:\n",
    "$F1 = 2\\frac{\\textrm{precision} \\cdot \\textrm{recall}}{\\textrm{precision} + \\textrm{recall}}$ <br>\n",
    "\n",
    "where precision is $\\frac{\\textrm{number of correct positive results}}{\\textrm{number of all positive results returned by the classifier}}$ <br>\n",
    "\n",
    "and recall is $\\frac{\\textrm{number of true positives}}{\\textrm{number of positive samples}}$. \n",
    "\n",
    "A perfect F1 score is 1.\n",
    "\n",
    "Let's calculate the F1 score for a set of test data on the iris data set."
   ]
  },
  {
   "cell_type": "code",
   "execution_count": 91,
   "metadata": {},
   "outputs": [
    {
     "name": "stdout",
     "output_type": "stream",
     "text": [
      "Confusion Matrix\n",
      "[[13  0  0]\n",
      " [ 0 13  0]\n",
      " [ 0  5  7]]\n",
      "F1 Score\n",
      "0.868421052631579\n"
     ]
    }
   ],
   "source": [
    "from sklearn.metrics import f1_score, confusion_matrix\n",
    "\n",
    "# import iris data\n",
    "iris = datasets.load_iris()\n",
    "\n",
    "# Get the first two features of the data set (the length and width of the widest petals (called sepals))\n",
    "X = iris.data[:, :2]\n",
    "y = iris.target\n",
    "\n",
    "# Split the data into training/testing sets\n",
    "X_train, X_test, y_train, y_test = train_test_split(X, y, stratify=y)\n",
    "\n",
    "# create an instance of kNN Classifier and fit the data.\n",
    "n_neighbors = 10\n",
    "clf = neighbors.KNeighborsClassifier(n_neighbors, weights='uniform')\n",
    "clf.fit(X_train, y_train)\n",
    "\n",
    "# Predict the test data and print out confusion matrix, F1 score\n",
    "y_pred = clf.predict(X_test)\n",
    "cm = confusion_matrix(y_test, y_pred)\n",
    "print(\"Confusion Matrix\")\n",
    "print(cm)\n",
    "\n",
    "print(\"F1 Score\")\n",
    "print(f1_score(y_test, y_pred, labels=[0, 1, 2], average='micro'))"
   ]
  },
  {
   "cell_type": "markdown",
   "metadata": {},
   "source": [
    "### Regression Accuracy\n",
    "There are several metrics that can gauge the performance of a regression model. The ones we'll cover from Scikit-Learn are the:\n",
    "- Mean Absolute Error: $\\frac{1}{n}\\sum_{i = 1}^{n}(predicted_{i} - actual_{i})$ (No Error has MAE = 0)\n",
    "- Mean Squared Error: $\\frac{1}{n}\\sum_{i = 1}^{n}(predicted_{i} - actual_{i})^{2}$ (No Error has MSE = 0)\n",
    "- R$^{2}$ Score = $1 - \\frac{\\sum_{i = 1}^{n}(actual_{i} - predicted_{i})^{2}}{\\sum_{i = 1}^{n}(actual_{i} - avg. actual)^{2}}$ (No Error has R$^{2}$ = 1)\n",
    "\n",
    "However, I find it useful to also use the root mean squared error normalized by the standard deviation to also be useful in assessing model accuracy.\n",
    "- Normalized Root Mean Squared Error: $\\frac{\\sqrt{\\frac{1}{n}\\sum_{i = 1}^{n}(predicted_{i} - actual_{i})^{2}}}{StDev(actual)}$ (No Error has Normalized RMSE = 0)"
   ]
  },
  {
   "cell_type": "code",
   "execution_count": 56,
   "metadata": {
    "scrolled": true
   },
   "outputs": [
    {
     "name": "stdout",
     "output_type": "stream",
     "text": [
      "Mean Absolute Error: 3.26\n",
      "Mean Squared Error: 10.6276\n",
      "R^2 Score: nan\n",
      "Normalized Root Mean Squared Error: 0.11385347146755789\n"
     ]
    },
    {
     "name": "stderr",
     "output_type": "stream",
     "text": [
      "c:\\users\\vanessa\\appdata\\local\\programs\\python\\python37-32\\lib\\site-packages\\scikit_learn-0.21.2-py3.7-win32.egg\\sklearn\\metrics\\regression.py:543: UndefinedMetricWarning: R^2 score is not well-defined with less than two samples.\n",
      "  warnings.warn(msg, UndefinedMetricWarning)\n"
     ]
    }
   ],
   "source": [
    "# Actual value of kappa for PbTe\n",
    "pbte_actual = 6.09\n",
    "\n",
    "# MAE\n",
    "pbte_mae = mean_absolute_error([pbte_actual], [pbte_predicted])\n",
    "\n",
    "# MSE\n",
    "pbte_mse = mean_squared_error([pbte_actual], [pbte_predicted])\n",
    "\n",
    "# R^2 (Note: Need at least two samples for R^2 in Scikit-Learn)\n",
    "pbte_r2 = r2_score([pbte_actual], [pbte_predicted])\n",
    "\n",
    "# Normalized RMSE\n",
    "pbte_nrmse = math.sqrt(pbte_mse)/np.std(kappa)\n",
    "\n",
    "# Print\n",
    "print(\"Mean Absolute Error: \" + str(pbte_mae))\n",
    "print(\"Mean Squared Error: \" + str(pbte_mse))\n",
    "print(\"R^2 Score: \" + str(pbte_r2))\n",
    "print(\"Normalized Root Mean Squared Error: \" + str(pbte_nrmse))"
   ]
  },
  {
   "cell_type": "markdown",
   "metadata": {},
   "source": [
    "## More Realistic Representations of Model Generality Using Cross Validation\n",
    "What's the goal of machine learning? Hopefully, it would be for the models we train to be able to predict something useful. I personally don't find it very useful to predict values we already know and would much rather train a machine learning model to be good at predicting something I don't know. How do we tell when a model has actually learned something, though? One way to gauge if a model has learned any trends is by predicting some data that wasn't used for training. using a strategy called cross validation. However, data scientists don't often have the luxury of having a ton of data lying around that they can just leave some of it out for gauging model accuracy. Cross validation helps us test how well a model can generalize what it's learned from the training data set we gave it without needing to reserve a portion of our data set until the very end of model training. \n",
    "\n",
    "When using cross validation, there are two different types of data we talk about: training data and testing data. Training data is the data the model sees during the process of updating its weights. After the model is done training, it predicts the values of the test data, which it hasn't seen before. Two of the more commons methods of cross validation are leave one out (LOOCV) and k-fold.\n",
    "\n",
    "### Leave One Out CV\n",
    "In leave one out cross validation, one data point is removed from the training data set and reserved for testing. The process of removing one data point for testing and training with the remainder of the data set is repeated until every point in the data set has been used for testing.\n",
    "\n",
    "Pros:\n",
    "- You learn from most of your training data since only 1 data point is removed from training each round.\n",
    "\n",
    "Cons:\n",
    "- Computationally expensive. You fit your model as many times as there are data points in the data set.\n",
    "- If your data set consists of many similar data points, you may not get an accurate representation of how well your model can predict new data."
   ]
  },
  {
   "cell_type": "code",
   "execution_count": 57,
   "metadata": {},
   "outputs": [
    {
     "name": "stderr",
     "output_type": "stream",
     "text": [
      "c:\\users\\vanessa\\appdata\\local\\programs\\python\\python37-32\\lib\\site-packages\\scikit_learn-0.21.2-py3.7-win32.egg\\sklearn\\ensemble\\forest.py:245: FutureWarning: The default value of n_estimators will change from 10 in version 0.20 to 100 in 0.22.\n",
      "  \"10 in version 0.20 to 100 in 0.22.\", FutureWarning)\n"
     ]
    },
    {
     "name": "stdout",
     "output_type": "stream",
     "text": [
      "Cross-Validated Mean Squared Error: 404.60973502304955\n",
      "Predicted kappa for PbTe: [2.793]\n"
     ]
    }
   ],
   "source": [
    "from sklearn.model_selection import LeaveOneOut\n",
    "\n",
    "loo = LeaveOneOut() # Make Leave One Out object\n",
    "rf = RandomForestRegressor() # Set up new random forest\n",
    "\n",
    "mse = []\n",
    "count = 1\n",
    "for train, test in loo.split(X):\n",
    "    rf.fit(X[train], kappa[train])\n",
    "    predictions = rf.predict(X[test])\n",
    "    mse.append(mean_squared_error(kappa[test],predictions)) #true, predict\n",
    "\n",
    "print(\"Cross-Validated Mean Squared Error: \" + str((np.average(np.asarray(mse)))))\n",
    "print('Predicted kappa for PbTe: ' + str(rf.predict(pbte)))"
   ]
  },
  {
   "cell_type": "markdown",
   "metadata": {},
   "source": [
    "### k-Fold Cross Validation\n",
    "In k-fold cross validation, we break the data into similarly-sized subsets to use for training & testing. During this process, one subset (called a fold) is reserved for testing the model, while the remaining folds are used to train the model. This process helps us to avoid a phenomenon called overfitting, where the model hasn't learned anything except the exact data in the data set!\n",
    "\n",
    "Pros: \n",
    "- Requires less computation time than Leave One Out CV for k << number of samples in data set\n",
    "\n",
    "Cons:\n",
    "- Time to train the model increases with the number of folds \n",
    "- Model doesn't get to learn from most of the data in your data set. Fewer data points are used for training as k decreases."
   ]
  },
  {
   "cell_type": "code",
   "execution_count": 49,
   "metadata": {},
   "outputs": [
    {
     "name": "stderr",
     "output_type": "stream",
     "text": [
      "c:\\users\\vanessa\\appdata\\local\\programs\\python\\python37-32\\lib\\site-packages\\scikit_learn-0.21.2-py3.7-win32.egg\\sklearn\\model_selection\\_split.py:431: FutureWarning: The default value of n_split will change from 3 to 5 in version 0.22. Specify it explicitly to silence this warning.\n",
      "  warnings.warn(NSPLIT_WARNING, FutureWarning)\n",
      "c:\\users\\vanessa\\appdata\\local\\programs\\python\\python37-32\\lib\\site-packages\\scikit_learn-0.21.2-py3.7-win32.egg\\sklearn\\ensemble\\forest.py:245: FutureWarning: The default value of n_estimators will change from 10 in version 0.20 to 100 in 0.22.\n",
      "  \"10 in version 0.20 to 100 in 0.22.\", FutureWarning)\n"
     ]
    },
    {
     "data": {
      "image/png": "[encoded data removed]",
      "text/plain": [
       "<Figure size 432x288 with 1 Axes>"
      ]
     },
     "metadata": {
      "needs_background": "light"
     },
     "output_type": "display_data"
    },
    {
     "data": {
      "image/png": "[encoded data removed]",
      "text/plain": [
       "<Figure size 432x288 with 1 Axes>"
      ]
     },
     "metadata": {
      "needs_background": "light"
     },
     "output_type": "display_data"
    },
    {
     "data": {
      "image/png": "[encoded data removed]",
      "text/plain": [
       "<Figure size 432x288 with 1 Axes>"
      ]
     },
     "metadata": {
      "needs_background": "light"
     },
     "output_type": "display_data"
    },
    {
     "data": {
      "image/png": "[encoded data removed]",
      "text/plain": [
       "<Figure size 432x288 with 1 Axes>"
      ]
     },
     "metadata": {
      "needs_background": "light"
     },
     "output_type": "display_data"
    },
    {
     "data": {
      "image/png": "[encoded data removed]",
      "text/plain": [
       "<Figure size 432x288 with 1 Axes>"
      ]
     },
     "metadata": {
      "needs_background": "light"
     },
     "output_type": "display_data"
    },
    {
     "name": "stdout",
     "output_type": "stream",
     "text": [
      "5\n",
      "Cross-Validated Mean Squared Error: 580.807632874115\n",
      "Predicted kappa for PbTe: [2.836]\n"
     ]
    },
    {
     "data": {
      "text/plain": [
       "<Figure size 432x288 with 0 Axes>"
      ]
     },
     "metadata": {},
     "output_type": "display_data"
    }
   ],
   "source": [
    "from sklearn.model_selection import KFold\n",
    "\n",
    "num_folds = 5 # Set number of divisions in dataset\n",
    "kf = KFold() # Create K Fold object\n",
    "rf = RandomForestRegressor() # Set up new random forest\n",
    "\n",
    "# Loop over folds. Train with N-1, test with 1, until every fold has been used for testing.\n",
    "num_folds = 5\n",
    "kfold = KFold(num_folds)\n",
    "\n",
    "mse = []\n",
    "count = 1\n",
    "for train, test in kfold.split(X):\n",
    "    rf.fit(X[train], kappa[train])\n",
    "    predictions = rf.predict(X[test])\n",
    "    mse.append(mean_squared_error(kappa[test],predictions)) #true, predict\n",
    "    plt.scatter(kappa[test], predictions)\n",
    "    plt.xlabel('Actual')\n",
    "    plt.ylabel('Predicted')\n",
    "    plt.title('Fold ' + str(count))\n",
    "    plt.show()\n",
    "    plt.clf()\n",
    "    count = count + 1\n",
    "    \n",
    "print(len(mse)) # Check how many times the model was trained\n",
    "print(\"Cross-Validated Mean Squared Error: \" + str((np.average(np.asarray(mse)))))\n",
    "print('Predicted kappa for PbTe: ' + str(rf.predict(pbte)))"
   ]
  },
  {
   "cell_type": "code",
   "execution_count": null,
   "metadata": {},
   "outputs": [],
   "source": []
  }
 ],
 "metadata": {
  "kernelspec": {
   "display_name": "Python 3",
   "language": "python",
   "name": "python3"
  },
  "language_info": {
   "codemirror_mode": {
    "name": "ipython",
    "version": 3
   },
   "file_extension": ".py",
   "mimetype": "text/x-python",
   "name": "python",
   "nbconvert_exporter": "python",
   "pygments_lexer": "ipython3",
   "version": "3.7.3"
  }
 },
 "nbformat": 4,
 "nbformat_minor": 4
}
