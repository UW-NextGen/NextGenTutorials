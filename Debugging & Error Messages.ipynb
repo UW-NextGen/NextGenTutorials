{
 "cells": [
  {
   "cell_type": "markdown",
   "metadata": {},
   "source": [
    "# Debugging & Error Messages in Python\n",
    "\n",
    "This notebook is a brief walkthrough of reading error messages in Python. We'll go in to using error messages to find where the error is coming from in your code, where others code may be having errors, the power of print statements, and other topics relevant to error messages and getting your code running. \n",
    "\n",
    "Each section below has some type of exercise to try and a solution at the end of the notebook.\n",
    "\n",
    "Last updated: 6/27/2018 by Vanessa Nilsen (vmeschke@wisc.edu)"
   ]
  },
  {
   "cell_type": "markdown",
   "metadata": {},
   "source": [
    "### What's an Error Message?\n",
    "\n",
    "Error messages are pieces of text that are ouptut by a program when it doesn't run as expected to help its users figure out why the program isn't functioning properly. Here's an example of an error message that would show up for improperly format a print statement in Python:"
   ]
  },
  {
   "cell_type": "code",
   "execution_count": 11,
   "metadata": {
    "collapsed": false
   },
   "outputs": [
    {
     "ename": "SyntaxError",
     "evalue": "Missing parentheses in call to 'print' (<ipython-input-11-e9c6515fe832>, line 1)",
     "output_type": "error",
     "traceback": [
      "\u001b[1;36m  File \u001b[1;32m\"<ipython-input-11-e9c6515fe832>\"\u001b[1;36m, line \u001b[1;32m1\u001b[0m\n\u001b[1;33m    print \"Hello, world!\"\u001b[0m\n\u001b[1;37m                        ^\u001b[0m\n\u001b[1;31mSyntaxError\u001b[0m\u001b[1;31m:\u001b[0m Missing parentheses in call to 'print'\n"
     ]
    }
   ],
   "source": [
    "print \"Hello, world!\""
   ]
  },
  {
   "cell_type": "markdown",
   "metadata": {},
   "source": [
    "Error messages"
   ]
  },
  {
   "cell_type": "markdown",
   "metadata": {},
   "source": [
    "### Syntax Errors\n",
    "\n",
    "In the cell above, the print statement should have a set a parentheses surrounding the string to print to the console. Since these parentheses are missing, Python won't be able to run this line of code. This is an error specific to Python, so it's known as a _syntax error_. \n",
    "\n",
    "Syntax errors are caused by something being formatted incorrectly, such as leaving parentheses off a print statement or improperly indenting pieces of a loop.\n",
    "\n",
    "**Exercise 1**: Fix the print statement above.\n",
    "\n",
    "**Exercise 2**: Determine the source of the error in the cell below and fix it."
   ]
  },
  {
   "cell_type": "code",
   "execution_count": 12,
   "metadata": {
    "collapsed": false
   },
   "outputs": [
    {
     "ename": "SyntaxError",
     "evalue": "invalid syntax (<ipython-input-12-a324cb25483c>, line 3)",
     "output_type": "error",
     "traceback": [
      "\u001b[1;36m  File \u001b[1;32m\"<ipython-input-12-a324cb25483c>\"\u001b[1;36m, line \u001b[1;32m3\u001b[0m\n\u001b[1;33m    While counter <= 5:\u001b[0m\n\u001b[1;37m                ^\u001b[0m\n\u001b[1;31mSyntaxError\u001b[0m\u001b[1;31m:\u001b[0m invalid syntax\n"
     ]
    }
   ],
   "source": [
    "# Print the numbers 1 to 5\n",
    "counter = 1\n",
    "While counter <= 5:\n",
    "    print(counter)"
   ]
  },
  {
   "cell_type": "markdown",
   "metadata": {},
   "source": [
    "## Exercise Solutions\n",
    "\n",
    "1) Code should read  `print(\"Hello, world!\")` <br>\n",
    "2) The w of \"while\" should not be capitalized in the third line. <br>"
   ]
  },
  {
   "cell_type": "code",
   "execution_count": null,
   "metadata": {
    "collapsed": true
   },
   "outputs": [],
   "source": []
  }
 ],
 "metadata": {
  "anaconda-cloud": {},
  "kernelspec": {
   "display_name": "Python [conda env:citrine]",
   "language": "python",
   "name": "conda-env-citrine-py"
  },
  "language_info": {
   "codemirror_mode": {
    "name": "ipython",
    "version": 3
   },
   "file_extension": ".py",
   "mimetype": "text/x-python",
   "name": "python",
   "nbconvert_exporter": "python",
   "pygments_lexer": "ipython3",
   "version": "3.5.3"
  }
 },
 "nbformat": 4,
 "nbformat_minor": 1
}
