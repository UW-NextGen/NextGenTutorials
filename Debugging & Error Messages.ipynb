{
 "cells": [
  {
   "cell_type": "markdown",
   "metadata": {},
   "source": [
    "# Debugging & Error Messages in Python\n",
    "\n",
    "This notebook is a brief walkthrough of reading error messages in Python. We'll go in to using error messages to find where the error is coming from in your code, where others code may be having errors, the power of print statements, and other topics relevant to error messages and getting your code running. \n",
    "\n",
    "Each section below has some type of exercise to try and a solution at the end of the notebook.\n",
    "\n",
    "Last updated: 6/27/2018 by Vanessa Nilsen (vmeschke@wisc.edu)"
   ]
  },
  {
   "cell_type": "markdown",
   "metadata": {},
   "source": [
    "### What's an Error Message?\n",
    "\n",
    "Error messages are pieces of text that are ouptut by a program when it doesn't run as expected to help its users figure out why the program isn't functioning properly. Here's an example of an error message that would show up for improperly format a print statement in Python:"
   ]
  },
  {
   "cell_type": "code",
   "execution_count": 1,
   "metadata": {},
   "outputs": [
    {
     "ename": "SyntaxError",
     "evalue": "Missing parentheses in call to 'print' (<ipython-input-1-666b3d69beea>, line 2)",
     "output_type": "error",
     "traceback": [
      "\u001b[1;36m  File \u001b[1;32m\"<ipython-input-1-666b3d69beea>\"\u001b[1;36m, line \u001b[1;32m2\u001b[0m\n\u001b[1;33m    print \"Hello, world!\"\u001b[0m\n\u001b[1;37m                        ^\u001b[0m\n\u001b[1;31mSyntaxError\u001b[0m\u001b[1;31m:\u001b[0m Missing parentheses in call to 'print'\n"
     ]
    }
   ],
   "source": [
    "# Exercise 1\n",
    "print \"Hello, world!\""
   ]
  },
  {
   "cell_type": "markdown",
   "metadata": {},
   "source": [
    "Error messages help programmers fix their code by stating which line of code was responsible for the error that caused the program to crash as well as stating what type of error occured in the mentioned line. The printing of the location of the error is known as a stack trace, and following each of the locations the error is coming from can tell you about how to fix the error.\n",
    "\n",
    "For example, in the above code snippet, the error message informs us there's a syntax error in line 2. We'll go in to syntax errors in the next section. \n",
    "\n",
    "Repairing malfunctioning code begins with reading error messages. When encountering problems with code, be sure to start by checking where the errors are coming from and what type of error is occuring."
   ]
  },
  {
   "cell_type": "markdown",
   "metadata": {},
   "source": [
    "### Syntax Errors\n",
    "\n",
    "In the cell above, the print statement should have a set a parentheses surrounding the string to print to the console. Since these parentheses are missing, Python won't be able to run this line of code. This is an error specific to Python, so it's known as a _syntax error_. \n",
    "\n",
    "Syntax errors are caused by something being formatted incorrectly, such as leaving parentheses off a print statement or improperly indenting pieces of a loop. Try fixing some syntax errors such as:\n",
    "\n",
    "**Exercise 1**: Fix the print statement above.\n",
    "\n",
    "**Exercise 2**: Determine the source of the error in loop in the cell below and fix it."
   ]
  },
  {
   "cell_type": "code",
   "execution_count": 2,
   "metadata": {},
   "outputs": [
    {
     "ename": "SyntaxError",
     "evalue": "invalid syntax (<ipython-input-2-e3b4fd593f6c>, line 3)",
     "output_type": "error",
     "traceback": [
      "\u001b[1;36m  File \u001b[1;32m\"<ipython-input-2-e3b4fd593f6c>\"\u001b[1;36m, line \u001b[1;32m3\u001b[0m\n\u001b[1;33m    While counter <= 5:\u001b[0m\n\u001b[1;37m                ^\u001b[0m\n\u001b[1;31mSyntaxError\u001b[0m\u001b[1;31m:\u001b[0m invalid syntax\n"
     ]
    }
   ],
   "source": [
    "# Exercise 2: Print the numbers 1 to 5\n",
    "counter = 1\n",
    "While counter <= 5:\n",
    "    print(counter)\n",
    "    counter += 1"
   ]
  },
  {
   "cell_type": "markdown",
   "metadata": {},
   "source": [
    "### Exceptions\n",
    "\n",
    "In addition to incorrectly typing a command to cause your code to stop running, your code may also throw an exception when you use a method incorrectly. These types of errors are typically fixed by understanding the error message that's printed when the code stops running so you know which part of the line of code is the problem. For example, exceptions can occur when calling a variable before it's assigned, such as below:"
   ]
  },
  {
   "cell_type": "code",
   "execution_count": 3,
   "metadata": {},
   "outputs": [
    {
     "ename": "NameError",
     "evalue": "name 'age' is not defined",
     "output_type": "error",
     "traceback": [
      "\u001b[1;31m---------------------------------------------------------------------------\u001b[0m",
      "\u001b[1;31mNameError\u001b[0m                                 Traceback (most recent call last)",
      "\u001b[1;32m<ipython-input-3-1b775017ee66>\u001b[0m in \u001b[0;36m<module>\u001b[1;34m()\u001b[0m\n\u001b[0;32m      1\u001b[0m \u001b[1;31m# Exercise 3: Print 3 times the value stored in the variable age:\u001b[0m\u001b[1;33m\u001b[0m\u001b[1;33m\u001b[0m\u001b[0m\n\u001b[1;32m----> 2\u001b[1;33m \u001b[0mprint\u001b[0m\u001b[1;33m(\u001b[0m\u001b[1;36m3\u001b[0m\u001b[1;33m*\u001b[0m\u001b[0mage\u001b[0m\u001b[1;33m)\u001b[0m\u001b[1;33m\u001b[0m\u001b[0m\n\u001b[0m",
      "\u001b[1;31mNameError\u001b[0m: name 'age' is not defined"
     ]
    }
   ],
   "source": [
    "# Exercise 3: Print 3 times the value stored in the variable age:\n",
    "print(3*age)"
   ]
  },
  {
   "cell_type": "markdown",
   "metadata": {},
   "source": [
    "This line of code gives a NameError, which means the variable we're trying to access doesn't exist in the code. This isn't the only type of exception that can occur, though, and chances are the error message won't include a single line of code traceback stating where the error originated from or that the answer to the error can be found just in the error message. For example, in the code block below, the error in the code comes from the np.append method. It can be fixed by changing our code, but we'll need to know something about how the code someone else wrote is supposed to be used. "
   ]
  },
  {
   "cell_type": "code",
   "execution_count": 4,
   "metadata": {},
   "outputs": [
    {
     "ename": "TypeError",
     "evalue": "append() missing 1 required positional argument: 'values'",
     "output_type": "error",
     "traceback": [
      "\u001b[1;31m---------------------------------------------------------------------------\u001b[0m",
      "\u001b[1;31mTypeError\u001b[0m                                 Traceback (most recent call last)",
      "\u001b[1;32m<ipython-input-4-9d296f147e88>\u001b[0m in \u001b[0;36m<module>\u001b[1;34m()\u001b[0m\n\u001b[0;32m      2\u001b[0m \u001b[1;32mimport\u001b[0m \u001b[0mnumpy\u001b[0m \u001b[1;32mas\u001b[0m \u001b[0mnp\u001b[0m\u001b[1;33m\u001b[0m\u001b[0m\n\u001b[0;32m      3\u001b[0m \u001b[0mmyArray\u001b[0m \u001b[1;33m=\u001b[0m \u001b[0mnp\u001b[0m\u001b[1;33m.\u001b[0m\u001b[0marray\u001b[0m\u001b[1;33m(\u001b[0m\u001b[1;33m[\u001b[0m\u001b[1;36m1\u001b[0m\u001b[1;33m,\u001b[0m\u001b[1;36m2\u001b[0m\u001b[1;33m,\u001b[0m\u001b[1;36m3\u001b[0m\u001b[1;33m,\u001b[0m\u001b[1;36m4\u001b[0m\u001b[1;33m]\u001b[0m\u001b[1;33m)\u001b[0m\u001b[1;33m\u001b[0m\u001b[0m\n\u001b[1;32m----> 4\u001b[1;33m \u001b[0mnp\u001b[0m\u001b[1;33m.\u001b[0m\u001b[0mappend\u001b[0m\u001b[1;33m(\u001b[0m\u001b[1;36m5\u001b[0m\u001b[1;33m)\u001b[0m\u001b[1;33m\u001b[0m\u001b[0m\n\u001b[0m\u001b[0;32m      5\u001b[0m \u001b[0mprint\u001b[0m\u001b[1;33m(\u001b[0m\u001b[0mnp\u001b[0m\u001b[1;33m.\u001b[0m\u001b[0mmean\u001b[0m\u001b[1;33m(\u001b[0m\u001b[0mmyArray\u001b[0m\u001b[1;33m)\u001b[0m\u001b[1;33m)\u001b[0m\u001b[1;33m\u001b[0m\u001b[0m\n",
      "\u001b[1;31mTypeError\u001b[0m: append() missing 1 required positional argument: 'values'"
     ]
    }
   ],
   "source": [
    "# Exercise 4: Print the mean of the array after adding 5\n",
    "# Note: If you do not have NumPy installed, you will need to install the module before this code block will run.\n",
    "import numpy as np\n",
    "myArray = np.array([1,2,3,4])\n",
    "np.append(5)\n",
    "print(np.mean(myArray))"
   ]
  },
  {
   "cell_type": "markdown",
   "metadata": {},
   "source": [
    "Try some exercises in fixing exceptions by reading the stack trace:\n",
    "\n",
    "**Exercise 3**: Fix the NameError in the first block of code under the \"Exceptions\" section.\n",
    "\n",
    "**Exercise 4**: Look up the NumPy documentation for the append() method and figure out how to correctly append 5 to the array before printing the mean in the above code block."
   ]
  },
  {
   "cell_type": "markdown",
   "metadata": {},
   "source": [
    "## Exercise Solutions\n",
    "\n",
    "1) Code should read  `print(\"Hello, world!\")` <br>\n",
    "2) The w of \"while\" should not be capitalized in the third line. <br>\n",
    "3) Define a variable named `age` before the print statement and assign it an integer or float value, e.g. `age = 22` <br>\n",
    "4) The NumPy append() method requires 2 arguments. The first is the array you would like to append to, and the second is the value you would like to append to said array. Line 4 should be `np.append(myArray, 5)`."
   ]
  },
  {
   "cell_type": "code",
   "execution_count": 5,
   "metadata": {},
   "outputs": [
    {
     "name": "stdout",
     "output_type": "stream",
     "text": [
      "Hello, world!\n"
     ]
    }
   ],
   "source": [
    "# Exercise 1, corrected\n",
    "print(\"Hello, world!\")"
   ]
  },
  {
   "cell_type": "code",
   "execution_count": 6,
   "metadata": {},
   "outputs": [
    {
     "name": "stdout",
     "output_type": "stream",
     "text": [
      "1\n",
      "2\n",
      "3\n",
      "4\n",
      "5\n"
     ]
    }
   ],
   "source": [
    "# Exercise 2, corrected\n",
    "counter = 1\n",
    "while counter <= 5:\n",
    "    print(counter)\n",
    "    counter += 1"
   ]
  },
  {
   "cell_type": "code",
   "execution_count": 7,
   "metadata": {},
   "outputs": [
    {
     "name": "stdout",
     "output_type": "stream",
     "text": [
      "66\n"
     ]
    }
   ],
   "source": [
    "# Exercise 3, corrected (note that any number can be used for age)\n",
    "age = 22\n",
    "print(3*age)"
   ]
  },
  {
   "cell_type": "code",
   "execution_count": 8,
   "metadata": {},
   "outputs": [
    {
     "name": "stdout",
     "output_type": "stream",
     "text": [
      "2.5\n"
     ]
    }
   ],
   "source": [
    "# Exercise 4, corrected\n",
    "import numpy as np\n",
    "myArray = np.array([1,2,3,4])\n",
    "np.append(myArray, 5)\n",
    "print(np.mean(myArray))"
   ]
  },
  {
   "cell_type": "code",
   "execution_count": null,
   "metadata": {
    "collapsed": true
   },
   "outputs": [],
   "source": []
  }
 ],
 "metadata": {
  "anaconda-cloud": {},
  "kernelspec": {
   "display_name": "Python 3",
   "language": "python",
   "name": "python3"
  },
  "language_info": {
   "codemirror_mode": {
    "name": "ipython",
    "version": 3
   },
   "file_extension": ".py",
   "mimetype": "text/x-python",
   "name": "python",
   "nbconvert_exporter": "python",
   "pygments_lexer": "ipython3",
   "version": "3.6.5"
  }
 },
 "nbformat": 4,
 "nbformat_minor": 1
}
