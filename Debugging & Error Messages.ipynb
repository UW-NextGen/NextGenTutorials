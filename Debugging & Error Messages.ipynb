{
 "cells": [
  {
   "cell_type": "markdown",
   "metadata": {},
   "source": [
    "# Debugging & Error Messages in Python\n",
    "\n",
    "This notebook is a brief walkthrough of reading error messages in Python. We'll go in to using error messages to find where the error is coming from in your code, where others code may be having errors, the power of print statements, and other topics relevant to error messages and getting your code running. \n",
    "\n",
    "Each section below has some type of exercise to try and a solution at the end of the notebook.\n",
    "\n",
    "Last updated: 6/27/2018 by Vanessa Nilsen (vmeschke@wisc.edu)"
   ]
  },
  {
   "cell_type": "markdown",
   "metadata": {},
   "source": [
    "### What's an Error Message?\n",
    "\n",
    "Error messages are pieces of text that are ouptut by a program when it doesn't run as expected to help its users figure out why the program isn't functioning properly. Here's an example of an error message that would show up for improperly format a print statement in Python:"
   ]
  },
  {
   "cell_type": "code",
   "execution_count": 11,
   "metadata": {},
   "outputs": [
    {
     "ename": "SyntaxError",
     "evalue": "Missing parentheses in call to 'print' (<ipython-input-11-666b3d69beea>, line 2)",
     "output_type": "error",
     "traceback": [
      "\u001b[1;36m  File \u001b[1;32m\"<ipython-input-11-666b3d69beea>\"\u001b[1;36m, line \u001b[1;32m2\u001b[0m\n\u001b[1;33m    print \"Hello, world!\"\u001b[0m\n\u001b[1;37m                        ^\u001b[0m\n\u001b[1;31mSyntaxError\u001b[0m\u001b[1;31m:\u001b[0m Missing parentheses in call to 'print'\n"
     ]
    }
   ],
   "source": [
    "# Exercise 1\n",
    "print \"Hello, world!\""
   ]
  },
  {
   "cell_type": "markdown",
   "metadata": {},
   "source": [
    "Error messages help programmers fix their code by stating which line of code was responsible for the error that caused the program to crash as well as stating what type of error occured in the mentioned line. The printing of the location of the error is known as a stack trace, and following each of the locations the error is coming from can tell you about how to fix the error.\n",
    "\n",
    "For example, in the above code snippet, the error message informs us there's a syntax error in line 2. We'll go in to syntax errors in the next section. \n",
    "\n",
    "Repairing malfunctioning code begins with reading error messages. When encountering problems with code, be sure to start by checking where the errors are coming from and what type of error is occuring."
   ]
  },
  {
   "cell_type": "markdown",
   "metadata": {},
   "source": [
    "### Syntax Errors\n",
    "\n",
    "In the cell above, the print statement should have a set a parentheses surrounding the string to print to the console. Since these parentheses are missing, Python won't be able to run this line of code. This is an error specific to Python, so it's known as a _syntax error_. \n",
    "\n",
    "Syntax errors are caused by something being formatted incorrectly, such as leaving parentheses off a print statement or improperly indenting pieces of a loop. Try fixing some syntax errors such as:\n",
    "\n",
    "**Exercise 1**: Fix the print statement above.\n",
    "\n",
    "**Exercise 2**: Determine the source of the error in loop in the cell below and fix it."
   ]
  },
  {
   "cell_type": "code",
   "execution_count": 12,
   "metadata": {},
   "outputs": [
    {
     "ename": "SyntaxError",
     "evalue": "invalid syntax (<ipython-input-12-e3b4fd593f6c>, line 3)",
     "output_type": "error",
     "traceback": [
      "\u001b[1;36m  File \u001b[1;32m\"<ipython-input-12-e3b4fd593f6c>\"\u001b[1;36m, line \u001b[1;32m3\u001b[0m\n\u001b[1;33m    While counter <= 5:\u001b[0m\n\u001b[1;37m                ^\u001b[0m\n\u001b[1;31mSyntaxError\u001b[0m\u001b[1;31m:\u001b[0m invalid syntax\n"
     ]
    }
   ],
   "source": [
    "# Exercise 2: Print the numbers 1 to 5\n",
    "counter = 1\n",
    "While counter <= 5:\n",
    "    print(counter)\n",
    "    counter += 1"
   ]
  },
  {
   "cell_type": "markdown",
   "metadata": {},
   "source": [
    "### Exceptions\n",
    "\n",
    "In addition to incorrectly typing a command to cause your code to stop running, your code may also throw an exception when you use a method incorrectly. These types of errors are typically fixed by understanding the error message that's printed when the code stops running so you know which part of the line of code is the problem. For example, exceptions can occur when calling a variable before it's assigned, such as below:"
   ]
  },
  {
   "cell_type": "code",
   "execution_count": 13,
   "metadata": {},
   "outputs": [
    {
     "ename": "NameError",
     "evalue": "name 'age' is not defined",
     "output_type": "error",
     "traceback": [
      "\u001b[1;31m---------------------------------------------------------------------------\u001b[0m",
      "\u001b[1;31mNameError\u001b[0m                                 Traceback (most recent call last)",
      "\u001b[1;32m<ipython-input-13-1b775017ee66>\u001b[0m in \u001b[0;36m<module>\u001b[1;34m()\u001b[0m\n\u001b[0;32m      1\u001b[0m \u001b[1;31m# Exercise 3: Print 3 times the value stored in the variable age:\u001b[0m\u001b[1;33m\u001b[0m\u001b[1;33m\u001b[0m\u001b[0m\n\u001b[1;32m----> 2\u001b[1;33m \u001b[0mprint\u001b[0m\u001b[1;33m(\u001b[0m\u001b[1;36m3\u001b[0m\u001b[1;33m*\u001b[0m\u001b[0mage\u001b[0m\u001b[1;33m)\u001b[0m\u001b[1;33m\u001b[0m\u001b[0m\n\u001b[0m",
      "\u001b[1;31mNameError\u001b[0m: name 'age' is not defined"
     ]
    }
   ],
   "source": [
    "# Exercise 3: Print 3 times the value stored in the variable age:\n",
    "print(3*age)"
   ]
  },
  {
   "cell_type": "markdown",
   "metadata": {},
   "source": [
    "This line of code gives a NameError, which means the variable we're trying to access doesn't exist in the code. This isn't the only type of exception that can occur, though, and chances are the error message won't include a single line of code traceback stating where the error originated from or that the answer to the error can be found just in the error message. For example, in the code block below, the error in the code comes from the add_value() method. It can be fixed by changing our code, but we'll need to know how the code someone else wrote is supposed to be used before we can remedy the problem."
   ]
  },
  {
   "cell_type": "code",
   "execution_count": 14,
   "metadata": {},
   "outputs": [
    {
     "ename": "TypeError",
     "evalue": "add_value() missing 1 required positional argument: 'value'",
     "output_type": "error",
     "traceback": [
      "\u001b[1;31m---------------------------------------------------------------------------\u001b[0m",
      "\u001b[1;31mTypeError\u001b[0m                                 Traceback (most recent call last)",
      "\u001b[1;32m<ipython-input-14-9f5193087923>\u001b[0m in \u001b[0;36m<module>\u001b[1;34m()\u001b[0m\n\u001b[0;32m     13\u001b[0m \u001b[1;31m# Add 5 to the list\u001b[0m\u001b[1;33m\u001b[0m\u001b[1;33m\u001b[0m\u001b[0m\n\u001b[0;32m     14\u001b[0m \u001b[0mmyList\u001b[0m \u001b[1;33m=\u001b[0m \u001b[1;33m[\u001b[0m\u001b[1;36m1\u001b[0m\u001b[1;33m,\u001b[0m\u001b[1;36m2\u001b[0m\u001b[1;33m,\u001b[0m\u001b[1;36m3\u001b[0m\u001b[1;33m,\u001b[0m\u001b[1;36m4\u001b[0m\u001b[1;33m]\u001b[0m\u001b[1;33m\u001b[0m\u001b[0m\n\u001b[1;32m---> 15\u001b[1;33m \u001b[0madd_value\u001b[0m\u001b[1;33m(\u001b[0m\u001b[1;36m5\u001b[0m\u001b[1;33m)\u001b[0m\u001b[1;33m\u001b[0m\u001b[0m\n\u001b[0m\u001b[0;32m     16\u001b[0m \u001b[0mprint\u001b[0m\u001b[1;33m(\u001b[0m\u001b[0mmyList\u001b[0m\u001b[1;33m)\u001b[0m\u001b[1;33m\u001b[0m\u001b[0m\n",
      "\u001b[1;31mTypeError\u001b[0m: add_value() missing 1 required positional argument: 'value'"
     ]
    }
   ],
   "source": [
    "# Exercise 4\n",
    "\n",
    "# Define a method to add a value to a list\n",
    "def add_value(myList, value):\n",
    "    '''\n",
    "    A method to add a value to an array.\n",
    "    :param array: The list to add a value onto\n",
    "    :type array: list\n",
    "    :param value: The value to add to the array\n",
    "    '''\n",
    "    myList.append(value)\n",
    "\n",
    "# Add 5 to the list\n",
    "myList = [1,2,3,4]\n",
    "add_value(5)\n",
    "print(myList)"
   ]
  },
  {
   "cell_type": "markdown",
   "metadata": {},
   "source": [
    "Try some exercises in fixing exceptions by reading the stack trace:\n",
    "\n",
    "**Exercise 3**: Fix the NameError in the first block of code under the \"Exceptions\" section.\n",
    "\n",
    "**Exercise 4**: Read the error message and look at the add_value method defined in the above cell block to figure out how to correctly append 5 to the list before printing the contents of the list."
   ]
  },
  {
   "cell_type": "markdown",
   "metadata": {},
   "source": [
    "### Final Challenge\n",
    "\n",
    "Examine the block of code below and determine what changes all need to be made to make this code run."
   ]
  },
  {
   "cell_type": "code",
   "execution_count": 8,
   "metadata": {},
   "outputs": [
    {
     "ename": "SyntaxError",
     "evalue": "invalid syntax (<ipython-input-8-f4b72b15db26>, line 10)",
     "output_type": "error",
     "traceback": [
      "\u001b[1;36m  File \u001b[1;32m\"<ipython-input-8-f4b72b15db26>\"\u001b[1;36m, line \u001b[1;32m10\u001b[0m\n\u001b[1;33m    while tired\u001b[0m\n\u001b[1;37m               ^\u001b[0m\n\u001b[1;31mSyntaxError\u001b[0m\u001b[1;31m:\u001b[0m invalid syntax\n"
     ]
    }
   ],
   "source": [
    "# Final Challenge\n",
    "# Note: You will need to have the NumPy module installed for the following code block to run.\n",
    "\n",
    "import numpy as np\n",
    "\n",
    "cups_of_coffee = np.array([1,1,1])\n",
    "\n",
    "tired = True\n",
    "\n",
    "while tired\n",
    "    cups_of_coffee = np.append(1)\n",
    "    if cups_of_coffee.size() > 6:\n",
    "        tired = False\n",
    "\n",
    "print(\"I've had %d cups of coffee today\" %cups_of_coffee.size)"
   ]
  },
  {
   "cell_type": "markdown",
   "metadata": {},
   "source": [
    "## Exercise Solutions\n",
    "\n",
    "1) Code should read  `print(\"Hello, world!\")` <br>\n",
    "2) The w of \"while\" should not be capitalized in the third line. <br>\n",
    "3) Define a variable named `age` before the print statement and assign it an integer or float value, e.g. `age = 22` <br>\n",
    "4) The add_value() method requires 2 arguments. The first is the list you would like to append to, and the second is the value you would like to append to said list. Line 14 should be `add_value(myList, 5)`."
   ]
  },
  {
   "cell_type": "code",
   "execution_count": 15,
   "metadata": {},
   "outputs": [
    {
     "name": "stdout",
     "output_type": "stream",
     "text": [
      "Hello, world!\n"
     ]
    }
   ],
   "source": [
    "# Exercise 1, corrected\n",
    "print(\"Hello, world!\")"
   ]
  },
  {
   "cell_type": "code",
   "execution_count": 16,
   "metadata": {},
   "outputs": [
    {
     "name": "stdout",
     "output_type": "stream",
     "text": [
      "1\n",
      "2\n",
      "3\n",
      "4\n",
      "5\n"
     ]
    }
   ],
   "source": [
    "# Exercise 2, corrected\n",
    "counter = 1\n",
    "while counter <= 5:\n",
    "    print(counter)\n",
    "    counter += 1"
   ]
  },
  {
   "cell_type": "code",
   "execution_count": 17,
   "metadata": {},
   "outputs": [
    {
     "name": "stdout",
     "output_type": "stream",
     "text": [
      "66\n"
     ]
    }
   ],
   "source": [
    "# Exercise 3, corrected (note that any number can be used for age)\n",
    "age = 22\n",
    "print(3*age)"
   ]
  },
  {
   "cell_type": "code",
   "execution_count": 18,
   "metadata": {},
   "outputs": [
    {
     "name": "stdout",
     "output_type": "stream",
     "text": [
      "[1, 2, 3, 4, 5]\n"
     ]
    }
   ],
   "source": [
    "# Exercise 4, corrected\n",
    "myList = [1,2,3,4]\n",
    "add_value(myList, 5)\n",
    "print(myList)"
   ]
  },
  {
   "cell_type": "code",
   "execution_count": 9,
   "metadata": {},
   "outputs": [
    {
     "name": "stdout",
     "output_type": "stream",
     "text": [
      "I've had 7 cups of coffee today\n"
     ]
    }
   ],
   "source": [
    "# Final challenge, corrected\n",
    "\n",
    "import numpy as np\n",
    "\n",
    "cups_of_coffee = np.array([1,2,1])\n",
    "\n",
    "tired = True\n",
    "\n",
    "while tired:\n",
    "    cups_of_coffee = np.append(cups_of_coffee, 1)\n",
    "    if cups_of_coffee.size > 6:\n",
    "        tired = False\n",
    "\n",
    "print(\"I've had %d cups of coffee today\" %cups_of_coffee.size)"
   ]
  },
  {
   "cell_type": "code",
   "execution_count": null,
   "metadata": {
    "collapsed": true
   },
   "outputs": [],
   "source": []
  }
 ],
 "metadata": {
  "anaconda-cloud": {},
  "kernelspec": {
   "display_name": "Python 3",
   "language": "python",
   "name": "python3"
  },
  "language_info": {
   "codemirror_mode": {
    "name": "ipython",
    "version": 3
   },
   "file_extension": ".py",
   "mimetype": "text/x-python",
   "name": "python",
   "nbconvert_exporter": "python",
   "pygments_lexer": "ipython3",
   "version": "3.5.3"
  }
 },
 "nbformat": 4,
 "nbformat_minor": 1
}
