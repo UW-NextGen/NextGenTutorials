{
 "cells": [
  {
   "cell_type": "markdown",
   "metadata": {},
   "source": [
    "# An Intro to Python\n",
    "\n",
    "What this notebook is: a walkthrough of the basics in Python, covering topics from variable assignment, loops, and Boolean operations to basic methods.\n",
    "\n",
    "What this notebook is not: a tutorial to give you a deep understanding of Python. If you're looking for more information than what this notebook provides, there are lots of great resources out there!\n",
    "\n",
    "Last updated 5/24/2020 by Vanessa Meschke (vnilsen@mymail.mines.edu).\n",
    "\n",
    "## What is Python?\n",
    "\n",
    "First of all, what even is Python? Python is general purpose programming language that has recently seen a rise in use for its lower entry barrier and plethora of machine learning packages. While you can do a lot of really cool things with Python, we're going to start with the basics."
   ]
  },
  {
   "cell_type": "markdown",
   "metadata": {},
   "source": [
    "## First things first...\n",
    "\n",
    "Let's get acquainted with Jupyter notebooks! First, we need some nomenclature to help with understanding later: \n",
    "\n",
    "* **Cell**: A nice way to break up chunks of your project. A cell is essentially the smallest piece of a Jupyter notebook you can make to differentiate between code cells and markdown cells. Speaking of...\n",
    "* **Markdown Cell**: This cell has text in it. It's called a markdown cell, and it doesn't do much other than hold text. You can make it pretty with some fancy formatting, but it's not required for running your code.\n",
    "* **Code Cell**: A cell that holds code! In Jupyter notebooks, you can type commands for Python (more specifically, something called iPython) and run them. The cell below is an example of a code cell that prints \"I love science\" when you run it.\n",
    "* **Running**: Running a cell causes it to perform whatever task you've asked of it. If you press run on a markdown cell, it'll format the text you've put in the cell. If you run a code cell, it'll attempt to execute the code in that cell. Try running the code cell below to see \"I love science\" printed."
   ]
  },
  {
   "cell_type": "code",
   "execution_count": 1,
   "metadata": {},
   "outputs": [
    {
     "name": "stdout",
     "output_type": "stream",
     "text": [
      "I love science\n"
     ]
    }
   ],
   "source": [
    "# Example of printing from a code cell\n",
    "print(\"I love science\")"
   ]
  },
  {
   "cell_type": "markdown",
   "metadata": {},
   "source": [
    "## More technical details\n",
    "\n",
    "Now that we've successfully executed a code block, we'll practice a bit more with basic concepts of Python. We'll go through variable assignment first, then Boolean logic, then loops.\n",
    "\n",
    "\n",
    "### Variables\n",
    "For more information from another source, check out __[this](https://techvidvan.com/tutorials/python-variables/)__ great course on the basics of Python.\n",
    "\n",
    "Say you had some value you'd like to hold on to in your program because you needed to save it for later. To do this, you'd assign the information you needed to keep to a variable. The general pattern you need to follow when storing data in variables is **variable_name** = **data to store**.\n",
    "\n",
    "For example, if we wanted to store the message we printed above before we printed it, we might do the following:"
   ]
  },
  {
   "cell_type": "code",
   "execution_count": 2,
   "metadata": {},
   "outputs": [
    {
     "name": "stdout",
     "output_type": "stream",
     "text": [
      "I love science\n"
     ]
    }
   ],
   "source": [
    "# Assign message to a variable called 'message'\n",
    "message = 'I love science'\n",
    "\n",
    "# Print message\n",
    "print(message)"
   ]
  },
  {
   "cell_type": "markdown",
   "metadata": {},
   "source": [
    "While there are certain rules that need to be followed for naming variables in Python (such as not starting them with numbers), most variable names will be acceptable. However, **do note that naming your variables descriptively and concisely will make your life easier when you code.**"
   ]
  },
  {
   "cell_type": "markdown",
   "metadata": {},
   "source": [
    "### Boolean Logic & Operators\n",
    "\n",
    "What the heck is Boolean? Unfortunately, it's not a diet plan for ghosts. Boolean is a special type of algebra that focuses on relationships between objects. It was developed a LONG time ago by __[this old guy](https://en.wikipedia.org/wiki/George_Boole)__ and is still used today in real life! Boolean logic has three different operators:\n",
    "* And\n",
    "* Or \n",
    "* Not\n",
    "and these operators are used on "
   ]
  },
  {
   "cell_type": "code",
   "execution_count": 7,
   "metadata": {},
   "outputs": [
    {
     "name": "stdout",
     "output_type": "stream",
     "text": [
      "True\n",
      "False\n",
      "True\n",
      "False\n"
     ]
    }
   ],
   "source": [
    "# Examples of Boolean operators in Python\n",
    "# Variables to compare\n",
    "\n",
    "print(True and True) # example of AND\n",
    "print(True and False)# example of AND\n",
    "print(True or False) # example of OR\n",
    "print(not True) # example of NOT"
   ]
  },
  {
   "cell_type": "code",
   "execution_count": null,
   "metadata": {},
   "outputs": [],
   "source": [
    "# On your own! Copy the above code into this cell and make all of the statements evaluate to True."
   ]
  }
 ],
 "metadata": {
  "kernelspec": {
   "display_name": "Python 3",
   "language": "python",
   "name": "python3"
  },
  "language_info": {
   "codemirror_mode": {
    "name": "ipython",
    "version": 3
   },
   "file_extension": ".py",
   "mimetype": "text/x-python",
   "name": "python",
   "nbconvert_exporter": "python",
   "pygments_lexer": "ipython3",
   "version": "3.7.3"
  }
 },
 "nbformat": 4,
 "nbformat_minor": 2
}
