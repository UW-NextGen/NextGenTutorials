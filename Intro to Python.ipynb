{
 "cells": [
  {
   "cell_type": "markdown",
   "metadata": {},
   "source": [
    "# An Intro to Python\n",
    "\n",
    "What this notebook is: a walkthrough of the basics in Python, covering topics from variable assignment, loops, and Boolean operations to if and else statements.\n",
    "\n",
    "What this notebook is not: a tutorial to give you a deep understanding of Python. If you're looking for more information than what this notebook provides, there are lots of great resources out there!\n",
    "\n",
    "Last updated 5/24/2020 by Vanessa Meschke (vnilsen@mymail.mines.edu).\n",
    "\n",
    "## What is Python?\n",
    "\n",
    "First of all, what even is Python? Python is general purpose programming language that has recently seen a rise in use for its lower entry barrier and plethora of machine learning packages. While you can do a lot of really cool things with Python, we're going to start with the basics."
   ]
  },
  {
   "cell_type": "markdown",
   "metadata": {},
   "source": [
    "## First things first...\n",
    "\n",
    "Let's get acquainted with Jupyter notebooks! First, we need some nomenclature to help with understanding later: \n",
    "\n",
    "* **Cell**: A nice way to break up chunks of your project. A cell is essentially the smallest piece of a Jupyter notebook you can make to differentiate between code cells and markdown cells. Speaking of...\n",
    "* **Markdown Cell**: This cell has text in it. It's called a markdown cell, and it doesn't do much other than hold text. You can make it pretty with some fancy formatting, but it's not required for running your code.\n",
    "* **Code Cell**: A cell that holds code! In Jupyter notebooks, you can type commands for Python (more specifically, something called iPython) and run them. The cell below is an example of a code cell that prints \"I love science\" when you run it.\n",
    "* **Running**: Running a cell causes it to perform whatever task you've asked of it. If you press run on a markdown cell, it'll format the text you've put in the cell. If you run a code cell, it'll attempt to execute the code in that cell. Try running the code cell below to see \"I love science\" printed."
   ]
  },
  {
   "cell_type": "code",
   "execution_count": 1,
   "metadata": {},
   "outputs": [
    {
     "name": "stdout",
     "output_type": "stream",
     "text": [
      "I love science\n"
     ]
    }
   ],
   "source": [
    "# Example of printing from a code cell\n",
    "print(\"I love science\")"
   ]
  },
  {
   "cell_type": "markdown",
   "metadata": {},
   "source": [
    "## More technical details\n",
    "\n",
    "Now that we've successfully executed a code block, we'll practice a bit more with basic concepts of Python. We'll go through variable assignment first, then Boolean logic, then loops.\n",
    "\n",
    "\n",
    "### Variables\n",
    "For more information from another source, check out __[this](https://techvidvan.com/tutorials/python-variables/)__ great course on the basics of Python.\n",
    "\n",
    "Say you had some value you'd like to hold on to in your program because you needed to save it for later. To do this, you'd assign the information you needed to keep to a variable. The general pattern you need to follow when storing data in variables is **variable_name** = **data to store**.\n",
    "\n",
    "For example, if we wanted to store the message we printed above before we printed it, we might do the following:"
   ]
  },
  {
   "cell_type": "code",
   "execution_count": 2,
   "metadata": {},
   "outputs": [
    {
     "name": "stdout",
     "output_type": "stream",
     "text": [
      "I love science\n"
     ]
    }
   ],
   "source": [
    "# Assign message to a variable called 'message'\n",
    "message = 'I love science'\n",
    "\n",
    "# Print message\n",
    "print(message)"
   ]
  },
  {
   "cell_type": "markdown",
   "metadata": {},
   "source": [
    "While there are certain rules that need to be followed for naming variables in Python (such as not starting them with numbers), most variable names will be acceptable. However, **do note that naming your variables descriptively and concisely will make your life easier when you code.** To test your understanding, name your own variable, assign in a value, and print it in the code cell below."
   ]
  },
  {
   "cell_type": "code",
   "execution_count": null,
   "metadata": {},
   "outputs": [],
   "source": [
    "# Create a variable and assign it a value\n",
    "\n",
    "# Print the data stored inside the variable"
   ]
  },
  {
   "cell_type": "markdown",
   "metadata": {},
   "source": [
    "### Variable (Data) Types\n",
    "\n",
    "One important thing to note is that there are different types of data you can store to a variable in Python. I've demonstrated some of the most common below. Note that these are the types Python knows right away, but there are many more data types than this. You can even make your own! In any case, you can check the data type by printing it using the type() "
   ]
  },
  {
   "cell_type": "code",
   "execution_count": null,
   "metadata": {},
   "outputs": [],
   "source": [
    "# Demonstration of different data types\n",
    "\n",
    "string_type = 'string'\n",
    "integer_type = 7\n",
    "float_type = 14.0\n",
    "boolean_type = True\n",
    "list_type = ['list', 'of', 'strings']"
   ]
  },
  {
   "cell_type": "markdown",
   "metadata": {},
   "source": [
    "### Boolean Logic & Operators\n",
    "\n",
    "What the heck is Boolean? Unfortunately, it's not a diet plan for ghosts. Boolean is a special type of algebra that focuses on relationships between objects. It was developed a LONG time ago by __[this old guy](https://en.wikipedia.org/wiki/George_Boole)__ and is still used today in real life! Boolean logic has three different operators used on values of True and False. A quick summary of each of the Boolean operators is below:\n",
    "\n",
    "* **and**: Checks if both statements evaluate to True. If they do, returns True. Else, returns False.\n",
    "* **or**: Checks if either statement evaluates to True. If either does, returns True. Else, returns False.\n",
    "* **not**: Inverts the boolean variable. True becomes False and False becomes True."
   ]
  },
  {
   "cell_type": "code",
   "execution_count": 3,
   "metadata": {},
   "outputs": [
    {
     "name": "stdout",
     "output_type": "stream",
     "text": [
      "True\n",
      "False\n",
      "True\n",
      "False\n"
     ]
    }
   ],
   "source": [
    "# Examples of Boolean operators in Python\n",
    "\n",
    "print(True and True) # example of AND\n",
    "print(True and False)# example of AND\n",
    "print(True or False) # example of OR\n",
    "print(not True) # example of NOT"
   ]
  },
  {
   "cell_type": "markdown",
   "metadata": {},
   "source": [
    "To test your understanding, make each of the statements below evaluate to True."
   ]
  },
  {
   "cell_type": "code",
   "execution_count": 4,
   "metadata": {},
   "outputs": [
    {
     "name": "stdout",
     "output_type": "stream",
     "text": [
      "True\n",
      "False\n",
      "True\n",
      "False\n"
     ]
    }
   ],
   "source": [
    "# On your own! Make all of the statements evaluate to True.\n",
    "print(True and True) # example of AND\n",
    "print(True and False)# example of AND\n",
    "print(True or False) # example of OR\n",
    "print(not True) # example of NOT"
   ]
  },
  {
   "cell_type": "markdown",
   "metadata": {},
   "source": [
    "While it's fun to just use values of True and False with the Boolean operators, it's a bit more useful to use the comparison operators we learned in math class when we need to check if something is True or False. For example, let's try to check if one sum is greater than the other. In Python, the way you write comparison operators are listed below:\n",
    "\n",
    "* Greater than: >\n",
    "* Less than:    <\n",
    "* Equals:       ==\n",
    "\n",
    "Using these comparison operators, we can assign the result of a comparison to a variable, which is shown below."
   ]
  },
  {
   "cell_type": "code",
   "execution_count": 5,
   "metadata": {},
   "outputs": [
    {
     "name": "stdout",
     "output_type": "stream",
     "text": [
      "False\n"
     ]
    }
   ],
   "source": [
    "print( 2 + 3 > 6 +2)\n"
   ]
  },
  {
   "cell_type": "markdown",
   "metadata": {},
   "source": [
    "### Loops\n",
    "\n",
    "Often when writing a program, you'll need to perform the same task multiple times. The way you can do this without writing each line of code you want to execute over and over, you can use a loop! There are two types of loops in Python: for loops and while loops. We'll start with for loops because they're a bit more intuitive.\n",
    "\n",
    "### For Loop\n",
    "For loops repeat the content of the loop a set number of times. Say we wanted to calculate the fifth power of a number. Rather than writing each multiplication by hand, we'll write a for loop that executes five times. Let's take a look at an example:"
   ]
  },
  {
   "cell_type": "code",
   "execution_count": 8,
   "metadata": {},
   "outputs": [
    {
     "name": "stdout",
     "output_type": "stream",
     "text": [
      "16\n",
      "64\n",
      "256\n",
      "1024\n",
      "4 to the 5 is 1024.\n"
     ]
    }
   ],
   "source": [
    "# Assign some variables\n",
    "base_number = 4\n",
    "power = 5\n",
    "multiplying = base_number\n",
    "\n",
    "# Make a for loop that executes as many times as the power we want to compute\n",
    "for i in range(power - 1): # Why -1 here ???\n",
    "    multiplying = multiplying*base_number\n",
    "    print(multiplying)\n",
    "\n",
    "# Print the result\n",
    "print(str(base_number) + \" to the \" + str(power) + \" is \" + str(multiplying) + \".\")"
   ]
  },
  {
   "cell_type": "markdown",
   "metadata": {},
   "source": [
    "On your own, try to compute a different power of a number in the code cell below."
   ]
  },
  {
   "cell_type": "code",
   "execution_count": 9,
   "metadata": {},
   "outputs": [
    {
     "ename": "SyntaxError",
     "evalue": "invalid syntax (<ipython-input-9-af5258744d50>, line 2)",
     "output_type": "error",
     "traceback": [
      "\u001b[0;36m  File \u001b[0;32m\"<ipython-input-9-af5258744d50>\"\u001b[0;36m, line \u001b[0;32m2\u001b[0m\n\u001b[0;31m    power =\u001b[0m\n\u001b[0m            ^\u001b[0m\n\u001b[0;31mSyntaxError\u001b[0m\u001b[0;31m:\u001b[0m invalid syntax\n"
     ]
    }
   ],
   "source": [
    "# Assign some variables\n",
    "base_number = 4 \n",
    "power = \n",
    "multiplying = base_number\n",
    "\n",
    "# Make a for loop that executes as many times as the power we want to compute\n",
    "for i in range(power - 1): # Why -1 here ???\n",
    "    multiplying = multiplying*base_number\n",
    "    print(multiplying)\n",
    "    \n",
    "# Print the result\n",
    "print(str(base_number) + \" to the \" + str(power) + \" is \" + str(multiplying) + \".\")"
   ]
  },
  {
   "cell_type": "markdown",
   "metadata": {},
   "source": [
    "### While loops\n",
    "A friend of the for loop is the while loop. Where the for loop repeats a set number of times, a while loops executes until a certain criteria is met. The way we check if the criteria is met is by using comparison or Boolean operators. Let's do an example where we multiply a number by itself until it's over 1000."
   ]
  },
  {
   "cell_type": "code",
   "execution_count": 11,
   "metadata": {},
   "outputs": [
    {
     "name": "stdout",
     "output_type": "stream",
     "text": [
      "16\n",
      "64\n",
      "256\n",
      "1024\n",
      "It took 5 multiplications to make 4 greather than 1000.\n"
     ]
    }
   ],
   "source": [
    "# While loop example\n",
    "\n",
    "# Assign some variables\n",
    "base_number = 4\n",
    "multiplying = base_number\n",
    "count = 1\n",
    "\n",
    "# Make a for while that executes until the product is greater than 1000\n",
    "while multiplying < 1000: \n",
    "    multiplying = multiplying*base_number\n",
    "    count = count + 1\n",
    "    print(multiplying)\n",
    "    \n",
    "print(\"It took \" + str(count) + \" multiplications to make \" + str(base_number) + \" greather than 1000.\")"
   ]
  },
  {
   "cell_type": "markdown",
   "metadata": {},
   "source": [
    "Now, try it on your own! Write a while loop that runs until the result of adding a number to itself is greater than 200."
   ]
  },
  {
   "cell_type": "code",
   "execution_count": 14,
   "metadata": {},
   "outputs": [
    {
     "ename": "SyntaxError",
     "evalue": "invalid syntax (<ipython-input-14-9c99fb3a7c18>, line 4)",
     "output_type": "error",
     "traceback": [
      "\u001b[0;36m  File \u001b[0;32m\"<ipython-input-14-9c99fb3a7c18>\"\u001b[0;36m, line \u001b[0;32m4\u001b[0m\n\u001b[0;31m    base_number =\u001b[0m\n\u001b[0m                  ^\u001b[0m\n\u001b[0;31mSyntaxError\u001b[0m\u001b[0;31m:\u001b[0m invalid syntax\n"
     ]
    }
   ],
   "source": [
    "# While loop on your own\n",
    "\n",
    "# Assign some variables\n",
    "base_number = \n",
    "my_sum = base_number\n",
    "count = 1\n",
    "\n",
    "# Make a for while that executes until the product is greater than 1000\n",
    "while my_sum < : \n",
    "    my_sum = \n",
    "    count = count + 1\n",
    "    print(my_sum)\n",
    "    \n",
    "print(\"It took \" + str(count) + \" additions to make \" + str(base_number) + \" greather than 200.\")"
   ]
  },
  {
   "cell_type": "markdown",
   "metadata": {},
   "source": [
    "## If and Else\n",
    "\n",
    "The final topic to cover in this notebook is if and else statements. Say you had a loop you'd written that you wanted to do different things depending on the value of some variables you have stored. The way we'd navigate executing different blocks of code like this is with if statements. If statements check a conditition, and if the condition is met, the content of teh if statement is executed. If you have more than one case that needs to be checked, you'd follow it with an else if (written elif in Python). Finally, if you have something that needs to be executed as a catch-all for all cases not covered in your if/elif's, you'd close this statement with an else. \n",
    "\n",
    "Let's take a look at an example where I have a list (covered later) of different pets that I need to feed. We'll use a for loop to go through the list, check the type of pet, then print what kind of food that pet needs."
   ]
  },
  {
   "cell_type": "code",
   "execution_count": 20,
   "metadata": {},
   "outputs": [
    {
     "name": "stdout",
     "output_type": "stream",
     "text": [
      "cat gets fed fish.\n",
      "dog gets fed kibble.\n",
      "horse gets fed apples.\n",
      "cow gets fed hay.\n",
      "bird gets fed seeds.\n",
      "fish gets fed fish food.\n",
      "I don't know what axolotl eats!\n"
     ]
    }
   ],
   "source": [
    "# Example of if/else\n",
    "\n",
    "my_pets = ['cat', 'dog', 'horse', 'cow', 'bird', 'fish']\n",
    "\n",
    "for p in my_pets:\n",
    "    if p == 'cat':\n",
    "        print(str(p) + ' gets fed fish.')\n",
    "    elif p == 'dog':\n",
    "        print(str(p) + ' gets fed kibble.')\n",
    "    elif p == 'horse':\n",
    "        print(str(p) + ' gets fed apples.')\n",
    "    elif p == 'cow':\n",
    "        print(str(p) + ' gets fed hay.')\n",
    "    elif p == 'bird':\n",
    "        print(str(p) + ' gets fed seeds.')\n",
    "    elif p == 'fish':\n",
    "        print(str(p) + ' gets fed fish food.')\n",
    "    else:\n",
    "        print('I don\\'t know what ' + str(p) + ' eats!')"
   ]
  },
  {
   "cell_type": "markdown",
   "metadata": {},
   "source": [
    "As you can see, this can take a while to write out if you have a lot of different cases to check. \n",
    "\n",
    "On your own, write some if/elif/else statements about what activities you would do with different pets."
   ]
  },
  {
   "cell_type": "code",
   "execution_count": null,
   "metadata": {},
   "outputs": [],
   "source": [
    "# On your own of if/else\n",
    "\n",
    "my_pets = ['cat', 'dog', 'horse', 'cow', 'bird', 'fish']\n",
    "\n",
    "for p in my_pets:\n",
    "    if :\n",
    "        print()\n",
    "    elif:\n",
    "        print()\n",
    "    else:\n",
    "        print()"
   ]
  }
 ],
 "metadata": {
  "kernelspec": {
   "display_name": "Python 3",
   "language": "python",
   "name": "python3"
  },
  "language_info": {
   "codemirror_mode": {
    "name": "ipython",
    "version": 3
   },
   "file_extension": ".py",
   "mimetype": "text/x-python",
   "name": "python",
   "nbconvert_exporter": "python",
   "pygments_lexer": "ipython3",
   "version": "3.7.3"
  }
 },
 "nbformat": 4,
 "nbformat_minor": 2
}
