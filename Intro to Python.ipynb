{
 "cells": [
  {
   "cell_type": "markdown",
   "metadata": {},
   "source": [
    "# Working with Python\n",
    "\n",
    "This notebook is a walkthrough of checking your installation of Python, setting up virtual environments, and running Python scripts from the command line. Set up of this notebook is based on Zed Shaw's Command Line Crash Course in _Learning Python the Hard Way_.\n",
    "\n",
    "Last updated 6/28/2018 by Vanessa Nilsen (vmeschke@wisc.edu)."
   ]
  },
  {
   "cell_type": "markdown",
   "metadata": {},
   "source": [
    "## Using the Command Line\n",
    "\n",
    "First, we need to find the command line before we can start working in it!\n",
    "\n",
    "**MacOS**: Press command and the space bar at the same time, then search for \"Terminal.\" <br>\n",
    "**Windows**: Press the Windows symbol in the lower left of your screen, then search for \"PowerShell.\""
   ]
  },
  {
   "cell_type": "markdown",
   "metadata": {},
   "source": [
    "<video controls src=\"Upload Data to Citrination.mp4\" style=\"max-width:100%; width: 50%\"/>"
   ]
  },
  {
   "cell_type": "code",
   "execution_count": null,
   "metadata": {},
   "outputs": [],
   "source": []
  }
 ],
 "metadata": {
  "kernelspec": {
   "display_name": "Python 3",
   "language": "python",
   "name": "python3"
  },
  "language_info": {
   "codemirror_mode": {
    "name": "ipython",
    "version": 3
   },
   "file_extension": ".py",
   "mimetype": "text/x-python",
   "name": "python",
   "nbconvert_exporter": "python",
   "pygments_lexer": "ipython3",
   "version": "3.6.5"
  }
 },
 "nbformat": 4,
 "nbformat_minor": 2
}
