{
 "cells": [
  {
   "cell_type": "markdown",
   "metadata": {},
   "source": [
    "#### This notebook is meant to be a high-level walkthrough of Python and some data science examples. We're working under the assumption you have installed Python, Anaconda, and are familiar with installing packages through pip or conda commands. This is not a tutorial on setting up Python interpreters, explaining what a for/while loop is, or efficiency of any of the following methods."
   ]
  },
  {
   "cell_type": "markdown",
   "metadata": {},
   "source": [
    "## Import Statements\n",
    "We're going to start the top of any file we make with some import statements. Import statements tell Python what packages we're looking to use in our file. The basic structure of an import state is:\n",
    "\n",
    "> import _Package Name_\n",
    "\n",
    "However, if the package we're importing has a long name or you're going to be typing it a lot, you can add \"as\" to an import statement to shorten the name. This structure looks like:\n",
    "\n",
    "> import _Package Name_ as _shorter name_\n",
    "\n",
    "One final way to import packages is to reference a specific class in the package you're importing. An example of this structure is:\n",
    "\n",
    "> from _Package Name_ import _Package Class_\n",
    "\n",
    "An example of each type of importing are shown in the code block below."
   ]
  },
  {
   "cell_type": "code",
   "execution_count": 688,
   "metadata": {
    "collapsed": true
   },
   "outputs": [],
   "source": [
    "import numpy\n",
    "import matplotlib.pyplot as plt\n",
    "from citrination_client import CitrinationClient"
   ]
  },
  {
   "cell_type": "markdown",
   "metadata": {},
   "source": [
    "## Lists\n",
    "Now that we've covered importing several libraries, we'll make some data to demonstrate some other capabilities of Python. First, we'll cover some operations with lists. Below we make a list containing the numbers from 0 to 99. We define the list in the first line using square brackets [] and add items to the list using the \"append\" method."
   ]
  },
  {
   "cell_type": "code",
   "execution_count": 689,
   "metadata": {},
   "outputs": [
    {
     "name": "stdout",
     "output_type": "stream",
     "text": [
      "[0, 1, 2, 3, 4, 5, 6, 7, 8, 9, 10, 11, 12, 13, 14, 15, 16, 17, 18, 19, 20, 21, 22, 23, 24, 25, 26, 27, 28, 29, 30, 31, 32, 33, 34, 35, 36, 37, 38, 39, 40, 41, 42, 43, 44, 45, 46, 47, 48, 49, 50, 51, 52, 53, 54, 55, 56, 57, 58, 59, 60, 61, 62, 63, 64, 65, 66, 67, 68, 69, 70, 71, 72, 73, 74, 75, 76, 77, 78, 79, 80, 81, 82, 83, 84, 85, 86, 87, 88, 89, 90, 91, 92, 93, 94, 95, 96, 97, 98, 99]\n"
     ]
    }
   ],
   "source": [
    "list = []\n",
    "for i in range(0, 100):\n",
    "    list.append(i)\n",
    "print(list)"
   ]
  },
  {
   "cell_type": "markdown",
   "metadata": {},
   "source": [
    "In the cell above, we append items to the list using the 'append' method. There are many other list operations that can be performed and are explained in the docs (https://docs.python.org/3/tutorial/datastructures.html). We'll demonstrate several of them on our list below."
   ]
  },
  {
   "cell_type": "code",
   "execution_count": 690,
   "metadata": {},
   "outputs": [
    {
     "name": "stdout",
     "output_type": "stream",
     "text": [
      "[]\n"
     ]
    }
   ],
   "source": [
    "# Remove items from a list using remove\n",
    "# Here, we remove every item in the list by going through list in reversed order.\n",
    "for i in reversed(list):\n",
    "    list.remove(i)\n",
    "print(list)"
   ]
  },
  {
   "cell_type": "code",
   "execution_count": 691,
   "metadata": {},
   "outputs": [
    {
     "name": "stdout",
     "output_type": "stream",
     "text": [
      "['Neon', 'Argon', 'Helium']\n"
     ]
    }
   ],
   "source": [
    "# We can also add items to a list when we create it:\n",
    "gases = [\"Neon\", \"Argon\", \"Helium\"]\n",
    "print(gases)"
   ]
  },
  {
   "cell_type": "code",
   "execution_count": 692,
   "metadata": {},
   "outputs": [
    {
     "name": "stdout",
     "output_type": "stream",
     "text": [
      "['Neon', 'Argon', 'Helium', 'Hydrogen', 'Oxygen', 'Nitrogen']\n"
     ]
    }
   ],
   "source": [
    "# And use \"extend\" to add items to a list\n",
    "gases.extend([\"Hydrogen\", \"Oxygen\", \"Nitrogen\"])\n",
    "print(gases)"
   ]
  },
  {
   "cell_type": "code",
   "execution_count": 693,
   "metadata": {},
   "outputs": [
    {
     "name": "stdout",
     "output_type": "stream",
     "text": [
      "6\n"
     ]
    }
   ],
   "source": [
    "# Check how many elements are in our list:\n",
    "print(len(gases))"
   ]
  },
  {
   "cell_type": "markdown",
   "metadata": {},
   "source": [
    "We can also access specific elements of our list by using square brackets [] and an index we'd like to access, or use a colon : inside the brackets to access all elements of a list up to a certain point."
   ]
  },
  {
   "cell_type": "code",
   "execution_count": 694,
   "metadata": {},
   "outputs": [
    {
     "name": "stdout",
     "output_type": "stream",
     "text": [
      "Access element by index: Argon\n",
      "Access whole list: ['Neon', 'Argon', 'Helium', 'Hydrogen', 'Oxygen', 'Nitrogen']\n",
      "Access first 3 elements: ['Neon', 'Argon', 'Helium']\n",
      "Access last 3 elements: ['Hydrogen', 'Oxygen', 'Nitrogen']\n"
     ]
    }
   ],
   "source": [
    "print(\"Access element by index: \" + str(gases[1]))\n",
    "print(\"Access whole list: \" + str(gases[:]))\n",
    "print(\"Access first 3 elements: \" + str(gases[:3]))\n",
    "print(\"Access last 3 elements: \" + str(gases[3:]))"
   ]
  },
  {
   "cell_type": "markdown",
   "metadata": {},
   "source": [
    "Again, all list operations can be found in https://docs.python.org/3/tutorial/datastructures.html.\n",
    "One final note to make about lists is how copyting lists and changing elements works. Say, for example, you would like to copy the list of gases we made earlier and run some operations on it:"
   ]
  },
  {
   "cell_type": "code",
   "execution_count": 695,
   "metadata": {},
   "outputs": [
    {
     "name": "stdout",
     "output_type": "stream",
     "text": [
      "Make another list called elements:\n",
      "elements: ['Neon', 'Argon', 'Helium', 'Hydrogen', 'Oxygen', 'Nitrogen']\n",
      "gases:    ['Neon', 'Argon', 'Helium', 'Hydrogen', 'Oxygen', 'Nitrogen']\n",
      "\n",
      "Remove an item from elements:\n",
      "elements: ['Neon', 'Argon', 'Helium', 'Oxygen', 'Nitrogen']\n",
      "gases:    ['Neon', 'Argon', 'Helium', 'Oxygen', 'Nitrogen']\n",
      "\n",
      "Add something to elements:\n",
      "elements: ['Neon', 'Argon', 'Helium', 'Oxygen', 'Nitrogen', 'Carbon', 'Iron', 'Tin']\n",
      "gases:    ['Neon', 'Argon', 'Helium', 'Oxygen', 'Nitrogen', 'Carbon', 'Iron', 'Tin']\n"
     ]
    }
   ],
   "source": [
    "# Make a reference to the gases list we made early\n",
    "elements = gases\n",
    "print(\"Make another list called elements:\")\n",
    "print(\"elements: \" + str(elements))\n",
    "print(\"gases:    \" + str(gases))\n",
    "print()\n",
    "\n",
    "# Remove something from elements.\n",
    "elements.remove(\"Hydrogen\")\n",
    "print(\"Remove an item from elements:\")\n",
    "print(\"elements: \" + str(elements))\n",
    "print(\"gases:    \" + str(gases))\n",
    "print()\n",
    "\n",
    "elements.extend([\"Carbon\", \"Iron\", \"Tin\"])\n",
    "print(\"Add something to elements:\")\n",
    "print(\"elements: \" + str(elements))\n",
    "print(\"gases:    \" + str(gases))"
   ]
  },
  {
   "cell_type": "markdown",
   "metadata": {},
   "source": [
    "To prevent unwanted changes to the original array gases, we can use the .copy() method or get all indices of the original list using [:]."
   ]
  },
  {
   "cell_type": "code",
   "execution_count": 696,
   "metadata": {},
   "outputs": [
    {
     "name": "stdout",
     "output_type": "stream",
     "text": [
      "Make another list called elements:\n",
      "elements: ['Neon', 'Argon', 'Helium', 'Hydrogen', 'Oxygen', 'Nitrogen']\n",
      "gases:    ['Neon', 'Argon', 'Helium', 'Hydrogen', 'Oxygen', 'Nitrogen']\n",
      "\n",
      "Remove an item from elements:\n",
      "elements: ['Neon', 'Argon', 'Helium', 'Oxygen', 'Nitrogen']\n",
      "gases:    ['Neon', 'Argon', 'Helium', 'Hydrogen', 'Oxygen', 'Nitrogen']\n",
      "\n",
      "Add something to elements:\n",
      "elements: ['Neon', 'Argon', 'Helium', 'Oxygen', 'Nitrogen', 'Carbon', 'Iron', 'Tin']\n",
      "gases:    ['Neon', 'Argon', 'Helium', 'Hydrogen', 'Oxygen', 'Nitrogen']\n"
     ]
    }
   ],
   "source": [
    "# Remake gases since we removed items from it in the previous cell.\n",
    "gases = [\"Neon\", \"Argon\", \"Helium\", \"Hydrogen\", \"Oxygen\", \"Nitrogen\"]\n",
    "elements = gases.copy()\n",
    "print(\"Make another list called elements:\")\n",
    "print(\"elements: \" + str(elements))\n",
    "print(\"gases:    \" + str(gases))\n",
    "print()\n",
    "\n",
    "# Remove something from elements.\n",
    "elements.remove(\"Hydrogen\")\n",
    "print(\"Remove an item from elements:\")\n",
    "print(\"elements: \" + str(elements))\n",
    "print(\"gases:    \" + str(gases))\n",
    "print()\n",
    "\n",
    "elements.extend([\"Carbon\", \"Iron\", \"Tin\"])\n",
    "print(\"Add something to elements:\")\n",
    "print(\"elements: \" + str(elements))\n",
    "print(\"gases:    \" + str(gases))"
   ]
  },
  {
   "cell_type": "markdown",
   "metadata": {},
   "source": [
    "## Numpy\n",
    "Another way to deal with storing multiple items is to use the NumPy package and create NumPy arrays instead of lists. A good tutorial on all operations shown in this notebook and more are available at https://docs.scipy.org/doc/numpy/user/quickstart.html and https://docs.scipy.org/doc/numpy-1.13.0/reference/routines.array-manipulation.html. \n",
    "\n",
    "To demonstrate some of NumPy's array capabilities, we'll make a 1D NumPy array containing the numbers from 0 to 9."
   ]
  },
  {
   "cell_type": "code",
   "execution_count": 697,
   "metadata": {},
   "outputs": [
    {
     "name": "stdout",
     "output_type": "stream",
     "text": [
      "a: [0 1 2 3 4 5 6 7 8 9]\n"
     ]
    }
   ],
   "source": [
    "import numpy as np\n",
    "a = np.array([0,1,2,3,4,5,6,7,8,9])\n",
    "print(\"a: \" + str(a))"
   ]
  },
  {
   "cell_type": "code",
   "execution_count": 698,
   "metadata": {
    "scrolled": true
   },
   "outputs": [
    {
     "name": "stdout",
     "output_type": "stream",
     "text": [
      "b: [0 1 2 3 4 5 6 7 8 9]\n"
     ]
    }
   ],
   "source": [
    "# Or a less verbose way to make a NumPy array that's just a range of 10 numbers that starts at 0...\n",
    "b  = np.arange(0,10)\n",
    "print(\"b: \" + str(b))"
   ]
  },
  {
   "cell_type": "markdown",
   "metadata": {},
   "source": [
    "Just as with Python lists, NumPy arrays can be updated using methods such as insert(), append(), or concatenate() to update a 1D NumPy array or stack() to create an n-dimension NumPy array, or use delete() to remove elements. Each of these methods returns an updated NumPy array, so be sure to store the updated array in a variable.\n",
    "\n",
    "Also note how these methods are called. Unlike Python lists where you call methods directly on an array, NumPy arrays are updated by calling a method that requires the NumPy array as an input."
   ]
  },
  {
   "cell_type": "code",
   "execution_count": 699,
   "metadata": {},
   "outputs": [
    {
     "name": "stdout",
     "output_type": "stream",
     "text": [
      "Original a array: [0 1 2 3 4 5 6 7 8 9]\n",
      "Insert 3 into a:  [0 1 2 3 7 4 5 6 7 8 9]\n",
      "\n",
      "Original a array: [0 1 2 3 4 5 6 7 8 9]\n",
      "Append 10 into a: [ 0  1  2  3  4  5  6  7  8  9 10]\n",
      "\n",
      "Original a array:    [0 1 2 3 4 5 6 7 8 9]\n",
      "Concatenate a and b: [0 1 2 3 4 5 6 7 8 9 0 1 2 3 4 5 6 7 8 9]\n",
      "\n",
      "Original a array: [0 1 2 3 4 5 6 7 8 9]\n",
      "Stack a and b:    [[0 1 2 3 4 5 6 7 8 9]\n",
      " [0 1 2 3 4 5 6 7 8 9]]\n",
      "\n",
      "Original a array: [0 1 2 3 4 5 6 7 8 9]\n",
      "Delete 4 from a:  [0 1 2 3 5 6 7 8 9]\n",
      "\n"
     ]
    }
   ],
   "source": [
    "# Insert the int 7 at position 4 in a\n",
    "a_insert = np.insert(a, 4, 7)\n",
    "print(\"Original a array: \" + str(a))\n",
    "print(\"Insert 3 into a:  \" + str(a_insert))\n",
    "print()\n",
    "\n",
    "# Append\n",
    "a_append = np.append(a, 10)\n",
    "print(\"Original a array: \" + str(a))\n",
    "print(\"Append 10 into a: \" + str(a_append))\n",
    "print()\n",
    "\n",
    "# Concatenate\n",
    "a_concat = np.concatenate((a, b))\n",
    "print(\"Original a array:    \" + str(a))\n",
    "print(\"Concatenate a and b: \" + str(a_concat))\n",
    "print()\n",
    "\n",
    "# Stack\n",
    "a_stack = np.stack((a, b))\n",
    "print(\"Original a array: \" + str(a))\n",
    "print(\"Stack a and b:    \" + str(a_stack))\n",
    "print()\n",
    "\n",
    "# Delete\n",
    "a_delete = np.delete(a, [4])\n",
    "print(\"Original a array: \" + str(a))\n",
    "print(\"Delete 4 from a:  \" + str(a_delete))\n",
    "print()"
   ]
  },
  {
   "cell_type": "markdown",
   "metadata": {},
   "source": [
    "Another important aspect of NumPy arrays is in their use in >1D arrays. NumPy nd arrays can be made by using commands like stack(), demonstrated in the previous cell, or reshape(), shown below. The dimensions of an nd NumPy array can be obtained with .shape(), and the number of elements in any NumPy array can be obtained with .size()."
   ]
  },
  {
   "cell_type": "code",
   "execution_count": 700,
   "metadata": {},
   "outputs": [
    {
     "name": "stdout",
     "output_type": "stream",
     "text": [
      "2D array: [[0 1 2 3 4]\n",
      " [5 6 7 8 9]]\n",
      "Shape of Array: (2, 5)\n",
      "Number of Elements: 10\n"
     ]
    }
   ],
   "source": [
    "# Reshape a into a NumPy array with 2 rows and 5 columns\n",
    "a_2d = np.reshape(a, [2,5])\n",
    "print(\"2D array: \" + str(a_2d))\n",
    "print(\"Shape of Array: \" + str(np.shape(a_2d)))\n",
    "print(\"Number of Elements: \" + str(np.size(a_2d)))"
   ]
  },
  {
   "cell_type": "markdown",
   "metadata": {},
   "source": [
    "You can also access elements of an nd NumPy array similar to how you would access elements of any array. More examples of indexing NumPy arrays can be found at https://docs.scipy.org/doc/numpy-1.13.0/reference/arrays.indexing.html."
   ]
  },
  {
   "cell_type": "code",
   "execution_count": 701,
   "metadata": {},
   "outputs": [
    {
     "name": "stdout",
     "output_type": "stream",
     "text": [
      "Row 0, column 3: 3\n",
      "Row 1: [5 6 7 8 9]\n",
      "Column 2: [2 7]\n"
     ]
    }
   ],
   "source": [
    "# Retrieve the element of the array in the 0th row in column 3\n",
    "print(\"Row 0, column 3: \" + str(a_2d[0][3]))\n",
    "\n",
    "# Retrieve all of row 1\n",
    "print(\"Row 1: \" + str(a_2d[1][:]))\n",
    "\n",
    "# Retrieve all column 2 of all rows\n",
    "print(\"Column 2: \" + str(a_2d[:,2]))"
   ]
  },
  {
   "cell_type": "markdown",
   "metadata": {},
   "source": [
    "N-dimensional NumPy arrays can also be flattened into 1D arrays using flatten()."
   ]
  },
  {
   "cell_type": "code",
   "execution_count": 702,
   "metadata": {},
   "outputs": [
    {
     "name": "stdout",
     "output_type": "stream",
     "text": [
      "[0 1 2 3 4 5 6 7 8 9]\n"
     ]
    }
   ],
   "source": [
    "# Flatten a 2D array\n",
    "a_flat = a_2d.flatten()\n",
    "print(a_flat)"
   ]
  },
  {
   "cell_type": "markdown",
   "metadata": {},
   "source": [
    "## Loops\n",
    "The syntax of for and while loops is shown below."
   ]
  },
  {
   "cell_type": "code",
   "execution_count": 703,
   "metadata": {},
   "outputs": [
    {
     "name": "stdout",
     "output_type": "stream",
     "text": [
      "Fill list with for loop: [0, 1, 2, 3, 4, 5, 6, 7, 8, 9, 10, 11, 12, 13, 14, 15, 16, 17, 18, 19, 20, 21, 22, 23, 24, 25, 26, 27, 28, 29, 30, 31, 32, 33, 34, 35, 36, 37, 38, 39, 40, 41, 42, 43, 44, 45, 46, 47, 48, 49, 50, 51, 52, 53, 54, 55, 56, 57, 58, 59, 60, 61, 62, 63, 64, 65, 66, 67, 68, 69, 70, 71, 72, 73, 74, 75, 76, 77, 78, 79, 80, 81, 82, 83, 84, 85, 86, 87, 88, 89, 90, 91, 92, 93, 94, 95, 96, 97, 98, 99]\n",
      "\n",
      "Empty list with while loop: []\n"
     ]
    }
   ],
   "source": [
    "# For loop to create a list with 100 elements\n",
    "for_loop = []\n",
    "for i in range(0, 100):\n",
    "    for_loop.append(i)\n",
    "print(\"Fill list with for loop: \" + str(for_loop))\n",
    "print()\n",
    "\n",
    "# While loop to remove elements from a list until it's empty\n",
    "while(len(for_loop) > 0):\n",
    "    del for_loop[len(for_loop)-1]\n",
    "    \n",
    "print(\"Empty list with while loop: \" + str(for_loop))"
   ]
  }
 ],
 "metadata": {
  "kernelspec": {
   "display_name": "Python 3",
   "language": "python",
   "name": "python3"
  },
  "language_info": {
   "codemirror_mode": {
    "name": "ipython",
    "version": 3
   },
   "file_extension": ".py",
   "mimetype": "text/x-python",
   "name": "python",
   "nbconvert_exporter": "python",
   "pygments_lexer": "ipython3",
   "version": "3.5.3"
  }
 },
 "nbformat": 4,
 "nbformat_minor": 2
}
