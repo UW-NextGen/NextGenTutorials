{
 "cells": [
  {
   "cell_type": "markdown",
   "metadata": {},
   "source": [
    "# Working with Python\n",
    "\n",
    "What this notebook is: a walkthrough of the basics in Python, covering topics from variable assignment, loops, and Boolean operations to basic methods.\n",
    "\n",
    "What this notebook is not: a tutorial to give you a deep understanding of Python. If you're looking for more information than what this notebook provides, there are lots of great resources out there!\n",
    "\n",
    "Last updated 5/24/2020 by Vanessa Meschke (vnilsen@mymail.mines.edu).\n",
    "\n",
    "## What is Python?\n",
    "\n",
    "First of all, what even is Python? Python is general purpose programming language that has recently seen a rise in use for its lower entry barrier and plethora of machine learning packages. While you can do a lot of really cool things with Python, we're going to start with the basics."
   ]
  },
  {
   "cell_type": "markdown",
   "metadata": {},
   "source": [
    "## First things first...\n",
    "\n",
    "Let's get acquainted with Jupyter notebooks! First, we need some nomenclature to help with understanding later: \n",
    "\n",
    "* **Cell**: A nice way to break up chunks of your project. A cell is essentially the smallest piece of a Jupyter notebook you can make to differentiate between code cells and markdown cells. Speaking of...\n",
    "* **Markdown Cell**: This cell has text in it. It's called a markdown cell, and it doesn't do much other than hold text. You can make it pretty with some fancy formatting, but it's not required for running your code.\n",
    "* **Code Cell**: A cell that holds code! In Jupyter notebooks, you can type commands for Python (more specifically, something called iPython) and run them. The cell below is an example of a code cell that prints \"I love science\" when you run it.\n",
    "* **Running**: Running a cell causes it to perform whatever task you've asked of it. If you press run on a markdown cell, it'll format the text you've put in the cell. If you run a code cell, it'll attempt to execute the code in that cell. Try running the code cell below to see \"I love science\" printed."
   ]
  },
  {
   "cell_type": "code",
   "execution_count": 1,
   "metadata": {},
   "outputs": [
    {
     "name": "stdout",
     "output_type": "stream",
     "text": [
      "I love science\n"
     ]
    }
   ],
   "source": [
    "# Example of printing from a code cell\n",
    "print(\"I love science\")"
   ]
  },
  {
   "cell_type": "markdown",
   "metadata": {},
   "source": []
  }
 ],
 "metadata": {
  "kernelspec": {
   "display_name": "Python 3",
   "language": "python",
   "name": "python3"
  },
  "language_info": {
   "codemirror_mode": {
    "name": "ipython",
    "version": 3
   },
   "file_extension": ".py",
   "mimetype": "text/x-python",
   "name": "python",
   "nbconvert_exporter": "python",
   "pygments_lexer": "ipython3",
   "version": "3.7.3"
  }
 },
 "nbformat": 4,
 "nbformat_minor": 2
}
