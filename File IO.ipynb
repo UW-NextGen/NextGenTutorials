{
 "cells": [
  {
   "cell_type": "markdown",
   "metadata": {},
   "source": [
    "# File Input/Output (File IO) in Python\n",
    "\n",
    "This notebook is an overview of how to read in data from CSV, JSON, and .txt files, and how to write data collected from a program to similar files. The demo files to read in are provided in this repository as \"practice_open\" with all of the file types covered in the notebook. If cloning this repository, the files should be kept in the same folder as this notebook when running.\n",
    "\n",
    "The demo JSON file was downloaded from Citrination Dataset #156839 (https://citrination.com/datasets/156839/show_search?searchMatchOption=fuzzyMatch)\n",
    "\n",
    "Last updated on 7/4/2018 by Vanessa Nilsen (vmeschke@wisc.edu)"
   ]
  },
  {
   "cell_type": "markdown",
   "metadata": {},
   "source": [
    "## Objects Created by Reading in Files\n",
    "\n",
    "For each of the examples below, the demo files being used are being opened with a method that will create objects of some kind. If you're unfamiliar with object oriented programming (OOP), you can watch a quick overview on objects & classes here: https://www.youtube.com/watch?v=K8eOkzQ_o9w\n",
    "\n",
    "Depending on the specific method being used to extract the data from the file, the object type being returned will be a bit different. For example, when reading in data from our txt file below, the method we will use will create a Python File object. However, when we read in the CSV using pandas below the txt example, the object type we will have there will be a pandas dataframe object.\n",
    "\n",
    "If the idea of objects is still a bit fuzzy, don't worry. The main goal of this notebook is not to explain OOP in its entirety, but just to help explain what the code below is doing. The most important piece of information to note is that specifying a file path is not the same thing as creating a file object. File paths are just strings indicating where a particular file is stored and don't have the same type of operations available to them as file objects. A more concrete example of the difference between file paths (strings) and file objects will be shown in the .txt read in example."
   ]
  },
  {
   "cell_type": "markdown",
   "metadata": {},
   "source": [
    "## Reading in Data\n",
    "\n",
    "External files can be read into a program using a variety of different commands depending on the type of file being openend and the type of operations to be performed on the data later in the program. This notebook will run through opening .txt files, CSV files, and JSON files. For each file being worked with, we'll open the file in some way that creates a file object. You technically don't need to import any modules to perform operations on file objects in Python, but we'll be using the pandas module with CSV's, which can be installed by running the commands 'pip install pandas' if you don't already have it installed."
   ]
  },
  {
   "cell_type": "markdown",
   "metadata": {},
   "source": [
    "#### .txt Files"
   ]
  },
  {
   "cell_type": "code",
   "execution_count": 2,
   "metadata": {},
   "outputs": [
    {
     "name": "stdout",
     "output_type": "stream",
     "text": [
      "txt_file_path is a <class 'str'>\n",
      "txt_file is a <class '_io.TextIOWrapper'>\n"
     ]
    }
   ],
   "source": [
    "txt_file_path = \"practice_open.txt\"\n",
    "txt_file = open(txt_file_path)\n",
    "\n",
    "print(\"txt_file_path is a %s\"%type(txt_file_path))\n",
    "print(\"txt_file is a %s\"%type(txt_file))"
   ]
  },
  {
   "cell_type": "markdown",
   "metadata": {},
   "source": [
    "#### CSV Files"
   ]
  },
  {
   "cell_type": "markdown",
   "metadata": {},
   "source": [
    "#### JSON Files"
   ]
  },
  {
   "cell_type": "code",
   "execution_count": 5,
   "metadata": {},
   "outputs": [],
   "source": [
    "import json\n",
    "\n",
    "with open(\"practice_open.json\", \"r\") as json_demo:\n",
    "    json.load(json_demo)"
   ]
  },
  {
   "cell_type": "markdown",
   "metadata": {},
   "source": [
    "## Writing Data"
   ]
  },
  {
   "cell_type": "markdown",
   "metadata": {},
   "source": [
    "#### .txt Files"
   ]
  },
  {
   "cell_type": "markdown",
   "metadata": {},
   "source": [
    "#### CSV Files"
   ]
  },
  {
   "cell_type": "markdown",
   "metadata": {},
   "source": [
    "#### JSON Files"
   ]
  },
  {
   "cell_type": "code",
   "execution_count": null,
   "metadata": {},
   "outputs": [],
   "source": []
  }
 ],
 "metadata": {
  "kernelspec": {
   "display_name": "Python 3",
   "language": "python",
   "name": "python3"
  },
  "language_info": {
   "codemirror_mode": {
    "name": "ipython",
    "version": 3
   },
   "file_extension": ".py",
   "mimetype": "text/x-python",
   "name": "python",
   "nbconvert_exporter": "python",
   "pygments_lexer": "ipython3",
   "version": "3.6.5"
  }
 },
 "nbformat": 4,
 "nbformat_minor": 2
}
