{
 "cells": [
  {
   "cell_type": "markdown",
   "metadata": {},
   "source": [
    "# Reading in Data from Files and Writing Data to Files\n",
    "\n",
    "This notebook is an overview of how to read in data from CSV, JSON, and .txt files, and how to write data collected from a program to similar files. The demo files to read in are provided in this repository as \"practice_open\" with all of the file types covered in the notebook. If cloning this repository, the files should be kept in the same folder as this notebook when running.\n",
    "\n",
    "The demo JSON file was downloaded from Citrination Dataset #156839 (https://citrination.com/datasets/156839/show_search?searchMatchOption=fuzzyMatch)\n",
    "\n",
    "Last updated on 7/4/2018 by Vanessa Nilsen (vmeschke@wisc.edu)"
   ]
  },
  {
   "cell_type": "markdown",
   "metadata": {},
   "source": [
    "## File Objects\n",
    "\n",
    "For each of the examples below, the demo files being used are being opened with a method that will create file objects. If you're unfamiliar with object oriented programming styles, you can read a quick overview on objects & OOP here: "
   ]
  },
  {
   "cell_type": "markdown",
   "metadata": {},
   "source": [
    "## Reading in Data\n",
    "\n",
    "External files can be read into a program using a variety of different commands depending on the type of file being openend and the type of operations to be performed on the data later in the program. This notebook will run through opening .txt files, CSV files, and JSON files. For each file being worked with, we'll open the file in some way that creates a file object. You technically don't need to import any modules to perform operations on file objects in Python, but we'll be using the pandas module with CSV's, which can be installed by running the commands 'pip install pandas' if you don't already have it installed."
   ]
  },
  {
   "cell_type": "markdown",
   "metadata": {},
   "source": [
    "#### .txt Files"
   ]
  },
  {
   "cell_type": "markdown",
   "metadata": {},
   "source": [
    "#### CSV Files"
   ]
  },
  {
   "cell_type": "markdown",
   "metadata": {},
   "source": [
    "#### JSON Files"
   ]
  },
  {
   "cell_type": "code",
   "execution_count": 5,
   "metadata": {},
   "outputs": [],
   "source": [
    "import json\n",
    "\n",
    "with open(\"practice_open.json\", \"r\") as json_demo:\n",
    "    json.load(json_demo)"
   ]
  },
  {
   "cell_type": "markdown",
   "metadata": {},
   "source": [
    "## Writing Data"
   ]
  },
  {
   "cell_type": "markdown",
   "metadata": {},
   "source": [
    "#### .txt Files"
   ]
  },
  {
   "cell_type": "markdown",
   "metadata": {},
   "source": [
    "#### CSV Files"
   ]
  },
  {
   "cell_type": "markdown",
   "metadata": {},
   "source": [
    "#### JSON Files"
   ]
  },
  {
   "cell_type": "code",
   "execution_count": null,
   "metadata": {},
   "outputs": [],
   "source": []
  }
 ],
 "metadata": {
  "kernelspec": {
   "display_name": "Python 3",
   "language": "python",
   "name": "python3"
  },
  "language_info": {
   "codemirror_mode": {
    "name": "ipython",
    "version": 3
   },
   "file_extension": ".py",
   "mimetype": "text/x-python",
   "name": "python",
   "nbconvert_exporter": "python",
   "pygments_lexer": "ipython3",
   "version": "3.6.5"
  }
 },
 "nbformat": 4,
 "nbformat_minor": 2
}
