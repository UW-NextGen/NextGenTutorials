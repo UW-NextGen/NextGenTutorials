{
 "cells": [
  {
   "cell_type": "markdown",
   "metadata": {},
   "source": [
    "# File Input/Output (File IO) in Python\n",
    "\n",
    "This notebook is an overview of how to read in data from CSV, JSON, and .txt files, and how to write data collected from a program to similar files. The demo files to read in are provided in this repository as \"practice_open\" with all of the file types covered in the notebook. If cloning this repository, the files should be kept in the same folder as this notebook when running.\n",
    "\n",
    "The demo JSON file was downloaded from Citrination Dataset #156839 (https://citrination.com/datasets/156839/show_search?searchMatchOption=fuzzyMatch)\n",
    "\n",
    "Last updated on 7/4/2018 by Vanessa Nilsen (vmeschke@wisc.edu)"
   ]
  },
  {
   "cell_type": "markdown",
   "metadata": {},
   "source": [
    "## Objects Created by Reading in Files\n",
    "\n",
    "For each of the examples below, the demo files being used are being opened with a method that will create objects of some kind. If you're unfamiliar with object oriented programming (OOP), you can watch a quick overview on objects & classes here: https://www.youtube.com/watch?v=K8eOkzQ_o9w\n",
    "\n",
    "Depending on the specific method being used to extract the data from the file, the object type being returned will be a bit different. For example, when reading in data from our txt file below, the method we will use will create a Python File object. However, when we read in the CSV using pandas below the txt example, the object type we will have there will be a pandas dataframe object.\n",
    "\n",
    "If the idea of objects is still a bit fuzzy, don't worry. The main goal of this notebook is not to explain OOP in its entirety, but just to help explain what the code below is doing. The most important piece of information to note is that specifying a file path is not the same thing as creating a file object. File paths are just strings indicating where a particular file is stored and don't have the same type of operations available to them as file objects. A more concrete example of the difference between file paths (strings) and file objects will be shown in the .txt read in example."
   ]
  },
  {
   "cell_type": "markdown",
   "metadata": {},
   "source": [
    "## Reading in Data\n",
    "\n",
    "External files can be read into a program using a variety of different commands depending on the type of file being openend and the type of operations to be performed on the data later in the program. This notebook will run through opening .txt files, CSV files, and JSON files. For each file being worked with, we'll open the file in some way that creates a file object. You technically don't need to import any modules to perform operations on file objects in Python, but we'll be using the pandas module with CSV's, which can be installed by running the commands 'pip install pandas' if you don't already have it installed."
   ]
  },
  {
   "cell_type": "markdown",
   "metadata": {},
   "source": [
    "#### .txt Files\n",
    "\n",
    "The first file type we'll practice reading in is a simple .txt file. The file below has a few lines of text in it that we can manipulate or use depending on the program you're running. Before we do anything with the data inside the file, though, we need to read it in. In the code block below, txt_file_path is a string specifying the path to our .txt file, and txt_file is a TextIOWrapper object. One of the largest differences between these two different variables is that we'll be able to read information from the TextIOWrapper object, not the string. "
   ]
  },
  {
   "cell_type": "code",
   "execution_count": 10,
   "metadata": {},
   "outputs": [
    {
     "name": "stdout",
     "output_type": "stream",
     "text": [
      "txt_file_path is a <class 'str'>\n",
      "txt_file is a <class '_io.TextIOWrapper'>\n",
      "\n",
      "Hello, world!\n",
      "\n"
     ]
    }
   ],
   "source": [
    "# String specifying the path to the txt file we want to read in\n",
    "txt_file_path = \"practice_open.txt\"\n",
    "# TextIOWrapper object that can be used to read in data from the file\n",
    "txt_file = open(txt_file_path)\n",
    "\n",
    "# Check the type of each of the variables above\n",
    "print(\"txt_file_path is a %s\"%type(txt_file_path))\n",
    "print(\"txt_file is a %s\\n\"%type(txt_file))\n",
    "\n",
    "# Print the first line of the file\n",
    "print(txt_file.readline())"
   ]
  },
  {
   "cell_type": "markdown",
   "metadata": {},
   "source": [
    "However, if we'd like to read more than one line of the file at a time, we can also load the whole file at one time, such as with the readlines() method, shown below. The content variable will hold every line in the .txt file, and we'll print the lines out one by one with a for loop."
   ]
  },
  {
   "cell_type": "code",
   "execution_count": 11,
   "metadata": {},
   "outputs": [
    {
     "name": "stdout",
     "output_type": "stream",
     "text": [
      "Hello, world!\n",
      "\n",
      "\n",
      "\n",
      "This is our example of reading in a txt file.\n",
      "\n",
      "We can read in a file line by line.\n",
      "\n",
      "Or we can read the whole thing in one go.\n"
     ]
    }
   ],
   "source": [
    "# String specifying the path to the txt file we want to read in\n",
    "txt_file_path = \"practice_open.txt\"\n",
    "# TextIOWrapper object that can be used to read in data from the file\n",
    "with open(txt_file_path) as new_txt_file:\n",
    "    content = new_txt_file.readlines()\n",
    "\n",
    "# Print out every line in the file\n",
    "for line in content:\n",
    "    print(line)"
   ]
  },
  {
   "cell_type": "markdown",
   "metadata": {},
   "source": [
    "#### CSV Files\n",
    "\n",
    "Next, we'll work with reading in CSV files. CSV files can be read in using the same readlines() method as the txt file was read in above, which is shown in the cell block below."
   ]
  },
  {
   "cell_type": "code",
   "execution_count": 4,
   "metadata": {},
   "outputs": [
    {
     "name": "stdout",
     "output_type": "stream",
     "text": [
      "Name,Phone Number,Birthday\n",
      "\n",
      "Jack,555-9080,June 11\n",
      "\n",
      "Dash,555-7761,February 28\n",
      "\n",
      "Violet,555-8126,August 12\n",
      "\n",
      "Robert,555-3377,November 19\n",
      "\n",
      "Helen,555-3846,September 14\n",
      "\n"
     ]
    }
   ],
   "source": [
    "# Specify the path to the CSV with a string\n",
    "csv_file_path = \"practice_open.csv\"\n",
    "\n",
    "# Open the CSV file and read it in. The second argument in open() indicates what mode we'd like to open the file we passed\n",
    "# as the first argument. Here, we use 'r' to indicate we'd like to read the file. Other modes for opening files include rb\n",
    "# (read bytes), w (write), and wb (write bytes)\n",
    "with open(csv_file_path, 'r') as csv_file:\n",
    "    csv_content = csv_file.readlines()\n",
    "\n",
    "# Print each line of the csv\n",
    "for line in csv_content:\n",
    "    print(line)"
   ]
  },
  {
   "cell_type": "markdown",
   "metadata": {},
   "source": [
    "As you can see above, this read in the entire CSV file line by line, which was then printed to the console. However, that doesn't help us store the data very well. Say, for example, we'd like to store each column of the csv to its own variable. One way to do that is with the csv module, which we'll need to import as the first line in this block."
   ]
  },
  {
   "cell_type": "code",
   "execution_count": 14,
   "metadata": {},
   "outputs": [
    {
     "name": "stdout",
     "output_type": "stream",
     "text": [
      "Name\n",
      "Jack\n",
      "Dash\n",
      "Violet\n",
      "Robert\n",
      "Helen\n"
     ]
    }
   ],
   "source": [
    "import csv\n",
    "\n",
    "# Specify the path to the CSV with a string\n",
    "csv_file_path = \"practice_open.csv\"\n",
    "\n",
    "# Open the CSV file in read mode\n",
    "with open(csv_file_path, 'r') as csv_file:\n",
    "    # Create a reader for the csv\n",
    "    reader = csv.reader(csv_file)\n",
    "    # Read in the names column from the CSV. The zip function helps create a single list from the output of the csv reader\n",
    "    # and we specify to read in column 0 and zip to 1 list. \n",
    "    names = list(zip(*reader))[0]\n",
    "    # Print each \n",
    "    for n in names:\n",
    "        print(n)"
   ]
  },
  {
   "cell_type": "markdown",
   "metadata": {},
   "source": [
    "The code in the above works, but it takes quite a few lines to read in each column of the csv. There's an additional method we can use to read in csv data known as pandas. Reading in the name column of the csv using pandas is shown below."
   ]
  },
  {
   "cell_type": "code",
   "execution_count": 19,
   "metadata": {},
   "outputs": [
    {
     "name": "stdout",
     "output_type": "stream",
     "text": [
      "Jack\n",
      "Dash\n",
      "Violet\n",
      "Robert\n",
      "Helen\n"
     ]
    }
   ],
   "source": [
    "import pandas as pd\n",
    "\n",
    "csv_file_path = \"practice_open.csv\"\n",
    "\n",
    "# Read in the whole csv as a pandas dataframe\n",
    "csv_df = pd.read_csv(csv_file_path)\n",
    "\n",
    "# Access the names column of the dataframe\n",
    "names = csv_df['Name']\n",
    "\n",
    "# Print each name\n",
    "for n in names:\n",
    "    print(n)"
   ]
  },
  {
   "cell_type": "markdown",
   "metadata": {},
   "source": [
    "#### JSON Files"
   ]
  },
  {
   "cell_type": "code",
   "execution_count": 5,
   "metadata": {
    "collapsed": true
   },
   "outputs": [],
   "source": [
    "import json\n",
    "\n",
    "with open(\"practice_open.json\", \"r\") as json_demo:\n",
    "    json.load(json_demo)"
   ]
  },
  {
   "cell_type": "markdown",
   "metadata": {},
   "source": [
    "## Writing Data"
   ]
  },
  {
   "cell_type": "markdown",
   "metadata": {},
   "source": [
    "#### .txt Files"
   ]
  },
  {
   "cell_type": "markdown",
   "metadata": {},
   "source": [
    "#### CSV Files"
   ]
  },
  {
   "cell_type": "markdown",
   "metadata": {},
   "source": [
    "#### JSON Files"
   ]
  },
  {
   "cell_type": "code",
   "execution_count": null,
   "metadata": {
    "collapsed": true
   },
   "outputs": [],
   "source": []
  }
 ],
 "metadata": {
  "kernelspec": {
   "display_name": "Python 3",
   "language": "python",
   "name": "python3"
  },
  "language_info": {
   "codemirror_mode": {
    "name": "ipython",
    "version": 3
   },
   "file_extension": ".py",
   "mimetype": "text/x-python",
   "name": "python",
   "nbconvert_exporter": "python",
   "pygments_lexer": "ipython3",
   "version": "3.5.3"
  }
 },
 "nbformat": 4,
 "nbformat_minor": 2
}
