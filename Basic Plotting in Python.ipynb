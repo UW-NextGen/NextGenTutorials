{
 "cells": [
  {
   "cell_type": "markdown",
   "metadata": {},
   "source": [
    "# Basic Plotting in Python\n",
    "\n",
    "This notebook is a brief demo of the Matplotlib plotting package for Python. We start with some basic plots with no customizations and end with one plot with lots of different customizations. While this isn't a full walkthrough of the functionality of Matplotlib, these are most of the plotting capabilities I use on a daily basis.\n",
    "\n",
    "Last updated on 28 May 2020 by Vanessa Meschke (vnilsen@mymail.mines.edu)."
   ]
  },
  {
   "cell_type": "code",
   "execution_count": 4,
   "metadata": {},
   "outputs": [],
   "source": [
    "# Libraries we'll use\n",
    "import numpy as np\n",
    "import pandas as pd\n",
    "import matplotlib.pyplot as plt\n",
    "%matplotlib inline # use this command to allow matplotlib plots to show up in Jupyter better"
   ]
  },
  {
   "cell_type": "markdown",
   "metadata": {},
   "source": [
    "# Reading in data\n",
    "\n",
    "Before we even make a plot, we need to have some data! In this demo, we'll be working with a subset of the [TEDesign Lab](https://www.sciencedirect.com/science/article/abs/pii/S0927025615007132) database, which has data on the properties of some [thermoelectric](https://en.wikipedia.org/wiki/Thermoelectric_effect) materials. \n",
    "\n",
    "For data read in, I prefer to use the [Pandas](https://pandas.pydata.org/) package to create [DataFrames](https://pandas.pydata.org/pandas-docs/stable/reference/api/pandas.DataFrame.html) (a data structure that resembles an array), which are easily converted to other data types and can be analyzed and manipulated using pre-written methods.  For example, using the [dataframe.head()](https://pandas.pydata.org/pandas-docs/stable/reference/api/pandas.DataFrame.head.html) command prints the top 5 rows of the CSV, allowing us to get a feel for what kind of data is in the DataFrame. A list of methods that can be used on DataFrames can be found [here](https://pandas.pydata.org/pandas-docs/stable/reference/api/pandas.DataFrame.html)."
   ]
  },
  {
   "cell_type": "code",
   "execution_count": 5,
   "metadata": {},
   "outputs": [
    {
     "data": {
      "text/html": [
       "<div>\n",
       "<style scoped>\n",
       "    .dataframe tbody tr th:only-of-type {\n",
       "        vertical-align: middle;\n",
       "    }\n",
       "\n",
       "    .dataframe tbody tr th {\n",
       "        vertical-align: top;\n",
       "    }\n",
       "\n",
       "    .dataframe thead th {\n",
       "        text-align: right;\n",
       "    }\n",
       "</style>\n",
       "<table border=\"1\" class=\"dataframe\">\n",
       "  <thead>\n",
       "    <tr style=\"text-align: right;\">\n",
       "      <th></th>\n",
       "      <th>compound</th>\n",
       "      <th>Space Group</th>\n",
       "      <th>Band Gap (eV)</th>\n",
       "      <th>Lattice Thermal Conductivity (W/m K)</th>\n",
       "      <th>Hole mobility (cm^2 / V s)</th>\n",
       "      <th>Electron mobility (cm^2 / V s)</th>\n",
       "      <th>beta (p-type)</th>\n",
       "      <th>beta (n-type)</th>\n",
       "      <th>Number of Atoms per Unit Cell</th>\n",
       "      <th>density (g/cm^3)</th>\n",
       "      <th>volume of unit cell (A^3)</th>\n",
       "      <th>Bulk Modulus (GPa)</th>\n",
       "      <th>Average Coordination Number</th>\n",
       "    </tr>\n",
       "  </thead>\n",
       "  <tbody>\n",
       "    <tr>\n",
       "      <th>0</th>\n",
       "      <td>La1O4V1</td>\n",
       "      <td>14</td>\n",
       "      <td>3.50</td>\n",
       "      <td>9.82</td>\n",
       "      <td>1.07</td>\n",
       "      <td>0.50</td>\n",
       "      <td>0.87</td>\n",
       "      <td>0.96</td>\n",
       "      <td>24</td>\n",
       "      <td>4.82</td>\n",
       "      <td>349.6</td>\n",
       "      <td>89.8</td>\n",
       "      <td>1.92</td>\n",
       "    </tr>\n",
       "    <tr>\n",
       "      <th>1</th>\n",
       "      <td>La1O4V1</td>\n",
       "      <td>141</td>\n",
       "      <td>3.15</td>\n",
       "      <td>12.41</td>\n",
       "      <td>2.69</td>\n",
       "      <td>7.35</td>\n",
       "      <td>2.25</td>\n",
       "      <td>0.67</td>\n",
       "      <td>12</td>\n",
       "      <td>4.42</td>\n",
       "      <td>190.9</td>\n",
       "      <td>97.3</td>\n",
       "      <td>3.92</td>\n",
       "    </tr>\n",
       "    <tr>\n",
       "      <th>2</th>\n",
       "      <td>In1O3Y1</td>\n",
       "      <td>185</td>\n",
       "      <td>2.02</td>\n",
       "      <td>6.27</td>\n",
       "      <td>3.45</td>\n",
       "      <td>411.06</td>\n",
       "      <td>2.85</td>\n",
       "      <td>3.85</td>\n",
       "      <td>30</td>\n",
       "      <td>5.67</td>\n",
       "      <td>442.3</td>\n",
       "      <td>137.2</td>\n",
       "      <td>4.53</td>\n",
       "    </tr>\n",
       "    <tr>\n",
       "      <th>3</th>\n",
       "      <td>Ba2In2O5</td>\n",
       "      <td>46</td>\n",
       "      <td>0.93</td>\n",
       "      <td>8.07</td>\n",
       "      <td>8.50</td>\n",
       "      <td>678.87</td>\n",
       "      <td>0.99</td>\n",
       "      <td>5.69</td>\n",
       "      <td>18</td>\n",
       "      <td>6.10</td>\n",
       "      <td>318.3</td>\n",
       "      <td>89.4</td>\n",
       "      <td>3.56</td>\n",
       "    </tr>\n",
       "    <tr>\n",
       "      <th>4</th>\n",
       "      <td>K6Mg1O4</td>\n",
       "      <td>186</td>\n",
       "      <td>1.71</td>\n",
       "      <td>2.20</td>\n",
       "      <td>0.48</td>\n",
       "      <td>35.84</td>\n",
       "      <td>0.47</td>\n",
       "      <td>2.63</td>\n",
       "      <td>22</td>\n",
       "      <td>2.53</td>\n",
       "      <td>424.3</td>\n",
       "      <td>31.7</td>\n",
       "      <td>5.59</td>\n",
       "    </tr>\n",
       "  </tbody>\n",
       "</table>\n",
       "</div>"
      ],
      "text/plain": [
       "   compound  Space Group  Band Gap (eV)  Lattice Thermal Conductivity (W/m K)  \\\n",
       "0   La1O4V1           14           3.50                                  9.82   \n",
       "1   La1O4V1          141           3.15                                 12.41   \n",
       "2   In1O3Y1          185           2.02                                  6.27   \n",
       "3  Ba2In2O5           46           0.93                                  8.07   \n",
       "4   K6Mg1O4          186           1.71                                  2.20   \n",
       "\n",
       "   Hole mobility (cm^2 / V s)  Electron mobility (cm^2 / V s)  beta (p-type)  \\\n",
       "0                        1.07                            0.50           0.87   \n",
       "1                        2.69                            7.35           2.25   \n",
       "2                        3.45                          411.06           2.85   \n",
       "3                        8.50                          678.87           0.99   \n",
       "4                        0.48                           35.84           0.47   \n",
       "\n",
       "   beta (n-type)  Number of Atoms per Unit Cell  density (g/cm^3)  \\\n",
       "0           0.96                             24              4.82   \n",
       "1           0.67                             12              4.42   \n",
       "2           3.85                             30              5.67   \n",
       "3           5.69                             18              6.10   \n",
       "4           2.63                             22              2.53   \n",
       "\n",
       "   volume of unit cell (A^3)  Bulk Modulus (GPa)  Average Coordination Number  \n",
       "0                      349.6                89.8                         1.92  \n",
       "1                      190.9                97.3                         3.92  \n",
       "2                      442.3               137.2                         4.53  \n",
       "3                      318.3                89.4                         3.56  \n",
       "4                      424.3                31.7                         5.59  "
      ]
     },
     "execution_count": 5,
     "metadata": {},
     "output_type": "execute_result"
    }
   ],
   "source": [
    "# Read in the data!\n",
    "data_path = 'tedesignlab.csv' # This is where your data is located. \n",
    "all_data = pd.read_csv(data_path) # Turn CSV into pandas DataFrame\n",
    "all_data.head() # See first 5 row of data set"
   ]
  },
  {
   "cell_type": "markdown",
   "metadata": {},
   "source": [
    "Now that we have some data, we can start plotting it!\n",
    "\n",
    "# Histograms\n",
    "\n",
    "One type of plot that can visualize the distribution of a variable is a histogram, which we can generate with the [hist()](https://matplotlib.org/3.1.0/gallery/statistics/hist.html) method in Matplotlib. In the example below, we're examining the distribution of the [lattice thermal conductivity](https://en.wikipedia.org/wiki/Thermal_conductivity) ($\\kappa$). We can see that most of the values of $\\kappa$ in this dataset are are less than 50 W/m K."
   ]
  },
  {
   "cell_type": "code",
   "execution_count": 6,
   "metadata": {},
   "outputs": [
    {
     "data": {
      "image/png": "[encoded data removed]",
      "text/plain": [
       "<Figure size 432x288 with 1 Axes>"
      ]
     },
     "metadata": {
      "needs_background": "light"
     },
     "output_type": "display_data"
    },
    {
     "data": {
      "text/plain": [
       "<Figure size 432x288 with 0 Axes>"
      ]
     },
     "metadata": {},
     "output_type": "display_data"
    }
   ],
   "source": [
    "# Bar plots & histograms\n",
    "kappa = all_data['Lattice Thermal Conductivity (W/m K)'].values # Get thermal cond & convert to NumPy array \n",
    "\n",
    "# Make histogram\n",
    "plt.hist(kappa, bins=10) # Generate the plot with 10 bins. What number of bins is optimal?\n",
    "plt.ylabel(\"Count\") # Label the axes\n",
    "plt.xlabel('$\\kappa_{L}$ (W/m K)')\n",
    "plt.show() # show the plot in Jupyter\n",
    "plt.savefig('./kappa_hist.png') # Save plot as png"
   ]
  },
  {
   "cell_type": "markdown",
   "metadata": {},
   "source": [
    "And below is an example of a cumulative histogram. The height of the bars to the left are added to the height of the bars to the right. These plots aren't as common as typical histograms, but they can be used to quickly estimate percentiles. "
   ]
  },
  {
   "cell_type": "code",
   "execution_count": 7,
   "metadata": {},
   "outputs": [
    {
     "data": {
      "image/png": "[encoded data removed]",
      "text/plain": [
       "<Figure size 432x288 with 1 Axes>"
      ]
     },
     "metadata": {
      "needs_background": "light"
     },
     "output_type": "display_data"
    },
    {
     "data": {
      "text/plain": [
       "<Figure size 432x288 with 0 Axes>"
      ]
     },
     "metadata": {},
     "output_type": "display_data"
    }
   ],
   "source": [
    "# Cumulative histogram\n",
    "plt.hist(kappa, bins=10, cumulative=True) # Generate the plot\n",
    "plt.ylabel(\"Count\") # Label the axes\n",
    "plt.xlabel('$\\kappa_{L}$ (W/m K)')\n",
    "plt.show() # show the plot in Jupyter\n",
    "plt.savefig('./kappa_chist.png') # Save plot as png"
   ]
  },
  {
   "cell_type": "markdown",
   "metadata": {},
   "source": [
    "# Bar plot\n",
    "\n",
    "Another plot that can be useful to communicate a trend to your audience is a bar plot. In this example, we'll make a bar plot that displays the counts of different [space groups](https://en.wikipedia.org/wiki/Space_group) that appear in our data set using matplotlib's [bar()](https://matplotlib.org/3.2.1/api/_as_gen/matplotlib.pyplot.bar.html) method."
   ]
  },
  {
   "cell_type": "code",
   "execution_count": 30,
   "metadata": {},
   "outputs": [
    {
     "data": {
      "image/png": "[encoded data removed]",
      "text/plain": [
       "<Figure size 432x288 with 1 Axes>"
      ]
     },
     "metadata": {
      "needs_background": "light"
     },
     "output_type": "display_data"
    },
    {
     "data": {
      "text/plain": [
       "<Figure size 432x288 with 0 Axes>"
      ]
     },
     "metadata": {},
     "output_type": "display_data"
    }
   ],
   "source": [
    "# Bar plot\n",
    "# Read in values to plot and convert to a list\n",
    "sg = all_data['Space Group'].values.tolist()\n",
    "\n",
    "# Get counts of each space group\n",
    "unique_sg = {} # make a dictionary to keep track of space group counts. Key is space group, value is count\n",
    "for s in sg: # for every item in the list\n",
    "    if s in unique_sg.keys(): # check if that item already has already been added to unique list\n",
    "        unique_sg[s] = unique_sg[s] + 1 # if it has already been added, increment count\n",
    "    else:\n",
    "        unique_sg[s] = 1 # if it hasn't been added, create a new spot to hold count for this space group\n",
    "        \n",
    "#print(unique_sg) # Print the dictionary to check it out!\n",
    "\n",
    "# Make bar plot \n",
    "sg = unique_sg.keys() # Get the list of unique space groups from the dictionary\n",
    "counts = unique_sg.values() # Get the counts corresponding to each unique space group\n",
    "plt.bar(sg, counts) # generate plots\n",
    "plt.xlabel('Space Group') # label the axes\n",
    "plt.ylabel('Count')\n",
    "plt.show() # show the plot\n",
    "plt.savefig('./sg_bar.png') # save the plot as a .png"
   ]
  },
  {
   "cell_type": "markdown",
   "metadata": {},
   "source": [
    "# Scatter Plots\n",
    "\n",
    "Scatter plots are a great way to look for correlations in data. Below is an example of scatter plotting the volume of a [unit cell](https://chemed.chem.purdue.edu/genchem/topicreview/bp/ch13/unitcell.php) as a function of the number of atoms in the unit cell. In this plot, we can see a correlation: more atoms in a unit cell roughly translates to larger unit cell volume. While this isn't a rule about materials, we can see this trend appear in this data set."
   ]
  },
  {
   "cell_type": "code",
   "execution_count": 21,
   "metadata": {},
   "outputs": [
    {
     "data": {
      "image/png": "[encoded data removed]",
      "text/plain": [
       "<Figure size 432x288 with 1 Axes>"
      ]
     },
     "metadata": {
      "needs_background": "light"
     },
     "output_type": "display_data"
    },
    {
     "data": {
      "text/plain": [
       "<Figure size 432x288 with 0 Axes>"
      ]
     },
     "metadata": {},
     "output_type": "display_data"
    }
   ],
   "source": [
    "# Single scatter plot\n",
    "# Read in the values to scatter plot\n",
    "atoms_uc = all_data['Number of Atoms per Unit Cell']\n",
    "vol_uc = all_data['volume of unit cell (A^3)']\n",
    "\n",
    "# Make scatter plot\n",
    "plt.scatter(atoms_uc, vol_uc) # Scatter data\n",
    "plt.xlabel('# Atoms per Unit Cell') # Set axis labels\n",
    "plt.ylabel('Volume of Unit Cell ($\\AA^3$)')\n",
    "plt.show() # Show plot\n",
    "plt.savefig('./atoms_vol_scatter.png') # Save plot as .png"
   ]
  },
  {
   "cell_type": "markdown",
   "metadata": {},
   "source": [
    "# Making it spicy!\n",
    "\n",
    "Matplotlib does have a ton of opportunity to customize your plots. Here are some of the most common changes you can make to customize your plots. We'll be running this example by scatter plotting [bulk modulus](https://en.wikipedia.org/wiki/Bulk_modulus) and [density](https://en.wikipedia.org/wiki/Density) as a function of [band gap](https://en.wikipedia.org/wiki/Band_gap).\n",
    "\n",
    "Note: More customization does not always make a better plot! Remember, you want to more easily convey information with your plot, not confuse your audience. **THE PLOT BELOW WITHOUT CHANGES IS NOT A GOOD EXAMPLE OF A PUBLICATION-WORTHY PLOT**. \n",
    "\n",
    "### Playing with color\n",
    "[Available colors in Matplotlib](https://matplotlib.org/3.2.1/tutorials/colors/colors.html)\n",
    "\n",
    "### Playing with marker style\n",
    "[Available markers in Matplotlib](https://matplotlib.org/3.2.1/api/markers_api.html)\n",
    "\n",
    "### Playing with font & font size\n",
    "[Matplotlib text documentation](https://matplotlib.org/3.1.1/tutorials/text/text_intro.html)\n",
    "[Font demo from matplotlib](https://matplotlib.org/3.2.1/gallery/text_labels_and_annotations/fonts_demo.html)\n",
    "\n",
    "### Playing with annotations\n",
    "[Available properties to change for the legend](https://matplotlib.org/3.1.0/api/_as_gen/matplotlib.pyplot.legend.html)\n",
    "[Available properties for plot annotations](https://matplotlib.org/3.2.1/tutorials/text/annotations.html)"
   ]
  },
  {
   "cell_type": "code",
   "execution_count": 20,
   "metadata": {},
   "outputs": [
    {
     "data": {
      "image/png": "[encoded data removed]",
      "text/plain": [
       "<Figure size 432x288 with 2 Axes>"
      ]
     },
     "metadata": {
      "needs_background": "light"
     },
     "output_type": "display_data"
    },
    {
     "data": {
      "text/plain": [
       "<Figure size 432x288 with 0 Axes>"
      ]
     },
     "metadata": {},
     "output_type": "display_data"
    }
   ],
   "source": [
    "# Making it spicy (legends, colors, etc.)\n",
    "\n",
    "# Multi-scatter w/ legend\n",
    "# Read in the values to scatter plot\n",
    "bandgap = all_data['Band Gap (eV)']\n",
    "density = all_data['density (g/cm^3)']\n",
    "bm = all_data['Bulk Modulus (GPa)']\n",
    "\n",
    "# Make figure and sub-axes\n",
    "fig, ax1 = plt.subplots()\n",
    "\n",
    "# Scatter plot bulk modulus vs band gap\n",
    "bm_color = 'red' # set color\n",
    "ax1.set_xlabel('Band Gap (eV)') # set axis labels\n",
    "ax1.set_ylabel('Bulk Modulus (GPa)', color=bm_color)\n",
    "s1 = ax1.scatter(bandgap, bm, color=bm_color, label='Bulk Modulus', alpha=1, marker='o') # scatter and save data\n",
    "ax1.tick_params(axis='y', labelcolor=bm_color) # update the ticks to match the scatter plot color\n",
    "\n",
    "# Duplicate x axis and make new axis to plot density vs band gap\n",
    "ax2 = ax1.twinx() # duplicate axis\n",
    "color = 'blue' # set color\n",
    "ax2.set_ylabel('Density (g/cm$^3$)', color=color)  # Set axis label (note: x was set above)\n",
    "s2 = ax2.scatter(bandgap, density, color=color, label='Density', alpha=1, marker='o') # scatter and save data\n",
    "ax2.tick_params(axis='y', labelcolor=color) # update the ticks to match the scatter plot color\n",
    "\n",
    "# Adding annotation with a different font\n",
    "csfont = {'fontname':'Comic Sans MS'} # Make the Comic Sans font\n",
    "plt.annotate('I like data', (.5,.5),**csfont, fontsize = 24) # Annotate on plot - 'string', (x,y) coord, **font\n",
    "\n",
    "plt.legend([s1, s2], ['Bulk Modulus', 'Density']) # Add a legend\n",
    "plt.tight_layout() # Trim whitespace from outside of plot and compress dimensions\n",
    "plt.show() # show the plot\n",
    "plt.savefig('./fancy_scatter.png') # save plot as .png"
   ]
  },
  {
   "cell_type": "markdown",
   "metadata": {},
   "source": [
    "All in all, plotting is an excellent way to convey technical information concisely in a way that tells a story. Picking axes, setting scales, and color selection are all part of the art of making a great plot!"
   ]
  },
  {
   "cell_type": "code",
   "execution_count": null,
   "metadata": {},
   "outputs": [],
   "source": []
  }
 ],
 "metadata": {
  "kernelspec": {
   "display_name": "Python 3",
   "language": "python",
   "name": "python3"
  },
  "language_info": {
   "codemirror_mode": {
    "name": "ipython",
    "version": 3
   },
   "file_extension": ".py",
   "mimetype": "text/x-python",
   "name": "python",
   "nbconvert_exporter": "python",
   "pygments_lexer": "ipython3",
   "version": "3.7.3"
  }
 },
 "nbformat": 4,
 "nbformat_minor": 2
}
